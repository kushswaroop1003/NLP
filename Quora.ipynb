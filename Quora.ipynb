{
  "cells": [
    {
      "cell_type": "code",
      "execution_count": 1,
      "metadata": {
        "id": "YEd2Hsrb8iGz"
      },
      "outputs": [],
      "source": [
        "import numpy as np\n",
        "import pandas as pd\n",
        "import matplotlib.pyplot as plt\n",
        "import seaborn as sns\n",
        "import nltk\n",
        "\n",
        "import re\n",
        "from bs4 import BeautifulSoup\n",
        "\n",
        "import warnings\n",
        "warnings.filterwarnings('ignore')"
      ]
    },
    {
      "cell_type": "code",
      "execution_count": 2,
      "metadata": {
        "id": "_Xn3TMou8iJS"
      },
      "outputs": [],
      "source": [
        "df = pd.read_csv(\"/content/train.csv\",encoding = 'utf-8-sig',engine = \"python\")"
      ]
    },
    {
      "cell_type": "code",
      "execution_count": 3,
      "metadata": {
        "id": "an8RPNOUiOKu"
      },
      "outputs": [],
      "source": [
        "df = df.sample(30000,random_state=2)"
      ]
    },
    {
      "cell_type": "code",
      "execution_count": 4,
      "metadata": {
        "colab": {
          "base_uri": "https://localhost:8080/"
        },
        "id": "C-QHrl0t8iLy",
        "outputId": "42740457-1820-4130-eceb-ff95fc8623f2"
      },
      "outputs": [
        {
          "output_type": "execute_result",
          "data": {
            "text/plain": [
              "(30000, 6)"
            ]
          },
          "metadata": {},
          "execution_count": 4
        }
      ],
      "source": [
        "df.shape"
      ]
    },
    {
      "cell_type": "code",
      "execution_count": 5,
      "metadata": {
        "colab": {
          "base_uri": "https://localhost:8080/",
          "height": 206
        },
        "id": "6AMbLNznrrgG",
        "outputId": "65fac4ce-0a9b-43d7-ce4f-8e3c6e2d0b59"
      },
      "outputs": [
        {
          "output_type": "execute_result",
          "data": {
            "text/plain": [
              "            id    qid1    qid2  \\\n",
              "398782  398782  496695  532029   \n",
              "115086  115086  187729  187730   \n",
              "327711  327711  454161  454162   \n",
              "367788  367788  498109  491396   \n",
              "151235  151235  237843   50930   \n",
              "\n",
              "                                                question1  \\\n",
              "398782  What is the best marketing automation tool for...   \n",
              "115086  I am poor but I want to invest. What should I do?   \n",
              "327711  I am from India and live abroad. I met a guy f...   \n",
              "367788  Why do so many people in the U.S. hate the sou...   \n",
              "151235                Consequences of Bhopal gas tragedy?   \n",
              "\n",
              "                                                question2  is_duplicate  \n",
              "398782  What is the best marketing automation tool for...             1  \n",
              "115086  I am quite poor and I want to be very rich. Wh...             0  \n",
              "327711  T.I.E.T to Thapar University to Thapar Univers...             0  \n",
              "367788  My boyfriend doesnt feel guilty when he hurts ...             0  \n",
              "151235  What was the reason behind the Bhopal gas trag...             0  "
            ],
            "text/html": [
              "\n",
              "  <div id=\"df-decae775-593e-487d-8e82-6770f8450b62\">\n",
              "    <div class=\"colab-df-container\">\n",
              "      <div>\n",
              "<style scoped>\n",
              "    .dataframe tbody tr th:only-of-type {\n",
              "        vertical-align: middle;\n",
              "    }\n",
              "\n",
              "    .dataframe tbody tr th {\n",
              "        vertical-align: top;\n",
              "    }\n",
              "\n",
              "    .dataframe thead th {\n",
              "        text-align: right;\n",
              "    }\n",
              "</style>\n",
              "<table border=\"1\" class=\"dataframe\">\n",
              "  <thead>\n",
              "    <tr style=\"text-align: right;\">\n",
              "      <th></th>\n",
              "      <th>id</th>\n",
              "      <th>qid1</th>\n",
              "      <th>qid2</th>\n",
              "      <th>question1</th>\n",
              "      <th>question2</th>\n",
              "      <th>is_duplicate</th>\n",
              "    </tr>\n",
              "  </thead>\n",
              "  <tbody>\n",
              "    <tr>\n",
              "      <th>398782</th>\n",
              "      <td>398782</td>\n",
              "      <td>496695</td>\n",
              "      <td>532029</td>\n",
              "      <td>What is the best marketing automation tool for...</td>\n",
              "      <td>What is the best marketing automation tool for...</td>\n",
              "      <td>1</td>\n",
              "    </tr>\n",
              "    <tr>\n",
              "      <th>115086</th>\n",
              "      <td>115086</td>\n",
              "      <td>187729</td>\n",
              "      <td>187730</td>\n",
              "      <td>I am poor but I want to invest. What should I do?</td>\n",
              "      <td>I am quite poor and I want to be very rich. Wh...</td>\n",
              "      <td>0</td>\n",
              "    </tr>\n",
              "    <tr>\n",
              "      <th>327711</th>\n",
              "      <td>327711</td>\n",
              "      <td>454161</td>\n",
              "      <td>454162</td>\n",
              "      <td>I am from India and live abroad. I met a guy f...</td>\n",
              "      <td>T.I.E.T to Thapar University to Thapar Univers...</td>\n",
              "      <td>0</td>\n",
              "    </tr>\n",
              "    <tr>\n",
              "      <th>367788</th>\n",
              "      <td>367788</td>\n",
              "      <td>498109</td>\n",
              "      <td>491396</td>\n",
              "      <td>Why do so many people in the U.S. hate the sou...</td>\n",
              "      <td>My boyfriend doesnt feel guilty when he hurts ...</td>\n",
              "      <td>0</td>\n",
              "    </tr>\n",
              "    <tr>\n",
              "      <th>151235</th>\n",
              "      <td>151235</td>\n",
              "      <td>237843</td>\n",
              "      <td>50930</td>\n",
              "      <td>Consequences of Bhopal gas tragedy?</td>\n",
              "      <td>What was the reason behind the Bhopal gas trag...</td>\n",
              "      <td>0</td>\n",
              "    </tr>\n",
              "  </tbody>\n",
              "</table>\n",
              "</div>\n",
              "      <button class=\"colab-df-convert\" onclick=\"convertToInteractive('df-decae775-593e-487d-8e82-6770f8450b62')\"\n",
              "              title=\"Convert this dataframe to an interactive table.\"\n",
              "              style=\"display:none;\">\n",
              "        \n",
              "  <svg xmlns=\"http://www.w3.org/2000/svg\" height=\"24px\"viewBox=\"0 0 24 24\"\n",
              "       width=\"24px\">\n",
              "    <path d=\"M0 0h24v24H0V0z\" fill=\"none\"/>\n",
              "    <path d=\"M18.56 5.44l.94 2.06.94-2.06 2.06-.94-2.06-.94-.94-2.06-.94 2.06-2.06.94zm-11 1L8.5 8.5l.94-2.06 2.06-.94-2.06-.94L8.5 2.5l-.94 2.06-2.06.94zm10 10l.94 2.06.94-2.06 2.06-.94-2.06-.94-.94-2.06-.94 2.06-2.06.94z\"/><path d=\"M17.41 7.96l-1.37-1.37c-.4-.4-.92-.59-1.43-.59-.52 0-1.04.2-1.43.59L10.3 9.45l-7.72 7.72c-.78.78-.78 2.05 0 2.83L4 21.41c.39.39.9.59 1.41.59.51 0 1.02-.2 1.41-.59l7.78-7.78 2.81-2.81c.8-.78.8-2.07 0-2.86zM5.41 20L4 18.59l7.72-7.72 1.47 1.35L5.41 20z\"/>\n",
              "  </svg>\n",
              "      </button>\n",
              "      \n",
              "  <style>\n",
              "    .colab-df-container {\n",
              "      display:flex;\n",
              "      flex-wrap:wrap;\n",
              "      gap: 12px;\n",
              "    }\n",
              "\n",
              "    .colab-df-convert {\n",
              "      background-color: #E8F0FE;\n",
              "      border: none;\n",
              "      border-radius: 50%;\n",
              "      cursor: pointer;\n",
              "      display: none;\n",
              "      fill: #1967D2;\n",
              "      height: 32px;\n",
              "      padding: 0 0 0 0;\n",
              "      width: 32px;\n",
              "    }\n",
              "\n",
              "    .colab-df-convert:hover {\n",
              "      background-color: #E2EBFA;\n",
              "      box-shadow: 0px 1px 2px rgba(60, 64, 67, 0.3), 0px 1px 3px 1px rgba(60, 64, 67, 0.15);\n",
              "      fill: #174EA6;\n",
              "    }\n",
              "\n",
              "    [theme=dark] .colab-df-convert {\n",
              "      background-color: #3B4455;\n",
              "      fill: #D2E3FC;\n",
              "    }\n",
              "\n",
              "    [theme=dark] .colab-df-convert:hover {\n",
              "      background-color: #434B5C;\n",
              "      box-shadow: 0px 1px 3px 1px rgba(0, 0, 0, 0.15);\n",
              "      filter: drop-shadow(0px 1px 2px rgba(0, 0, 0, 0.3));\n",
              "      fill: #FFFFFF;\n",
              "    }\n",
              "  </style>\n",
              "\n",
              "      <script>\n",
              "        const buttonEl =\n",
              "          document.querySelector('#df-decae775-593e-487d-8e82-6770f8450b62 button.colab-df-convert');\n",
              "        buttonEl.style.display =\n",
              "          google.colab.kernel.accessAllowed ? 'block' : 'none';\n",
              "\n",
              "        async function convertToInteractive(key) {\n",
              "          const element = document.querySelector('#df-decae775-593e-487d-8e82-6770f8450b62');\n",
              "          const dataTable =\n",
              "            await google.colab.kernel.invokeFunction('convertToInteractive',\n",
              "                                                     [key], {});\n",
              "          if (!dataTable) return;\n",
              "\n",
              "          const docLinkHtml = 'Like what you see? Visit the ' +\n",
              "            '<a target=\"_blank\" href=https://colab.research.google.com/notebooks/data_table.ipynb>data table notebook</a>'\n",
              "            + ' to learn more about interactive tables.';\n",
              "          element.innerHTML = '';\n",
              "          dataTable['output_type'] = 'display_data';\n",
              "          await google.colab.output.renderOutput(dataTable, element);\n",
              "          const docLink = document.createElement('div');\n",
              "          docLink.innerHTML = docLinkHtml;\n",
              "          element.appendChild(docLink);\n",
              "        }\n",
              "      </script>\n",
              "    </div>\n",
              "  </div>\n",
              "  "
            ]
          },
          "metadata": {},
          "execution_count": 5
        }
      ],
      "source": [
        "df.head(5)"
      ]
    },
    {
      "cell_type": "code",
      "execution_count": 6,
      "metadata": {
        "colab": {
          "base_uri": "https://localhost:8080/",
          "height": 363
        },
        "id": "OAY4EmTg8iOc",
        "outputId": "4023bd25-3db3-4464-d505-b7eada9d9bbe"
      },
      "outputs": [
        {
          "output_type": "execute_result",
          "data": {
            "text/plain": [
              "            id    qid1    qid2  \\\n",
              "248328  248328  361730  361731   \n",
              "282470  282470  127844    1213   \n",
              "40335    40335   72991   72992   \n",
              "328463  328463  455004  455005   \n",
              "364337  364337  494407  494408   \n",
              "234711  234711  345282  345283   \n",
              "165513  165513   40833  121010   \n",
              "399295  399295   72725  532546   \n",
              "90127    90127  151295  151296   \n",
              "58188    58188  102129  102130   \n",
              "\n",
              "                                                question1  \\\n",
              "248328                                  Does money exist?   \n",
              "282470  What are some recommended movies a person shou...   \n",
              "40335   How can you check your Capital One credit card...   \n",
              "328463            How can I add Dublin Core to a website?   \n",
              "364337     Do we develop a tolerance to endorphin rushes?   \n",
              "234711  Having worked in Banking, what do you do now i...   \n",
              "165513  How do people still think the Earth is flat ev...   \n",
              "399295  How do you fall asleep fast when you are not t...   \n",
              "90127   What is Polavaram project issue and how the co...   \n",
              "58188   Which is the best route to travel throughout I...   \n",
              "\n",
              "                                                question2  is_duplicate  \n",
              "248328                              Why does money exist?             0  \n",
              "282470  What movies would you recommend everyone to wa...             1  \n",
              "40335   How often does Capital One up my credit line w...             0  \n",
              "328463             How do you add Dublin Core to website?             1  \n",
              "364337  How much can I raise my 3.77 weighted GPA as a...             0  \n",
              "234711  Having worked in Banking, what do you do now i...             1  \n",
              "165513  I know some people that STILL believe the eart...             1  \n",
              "399295           How can you avoid falling asleep easily?             0  \n",
              "90127                  How do peacocks build their nests?             0  \n",
              "58188   Which are the best ways to strengthen one's pr...             0  "
            ],
            "text/html": [
              "\n",
              "  <div id=\"df-1eaf673b-f54f-43ac-b72d-a97399ca6c17\">\n",
              "    <div class=\"colab-df-container\">\n",
              "      <div>\n",
              "<style scoped>\n",
              "    .dataframe tbody tr th:only-of-type {\n",
              "        vertical-align: middle;\n",
              "    }\n",
              "\n",
              "    .dataframe tbody tr th {\n",
              "        vertical-align: top;\n",
              "    }\n",
              "\n",
              "    .dataframe thead th {\n",
              "        text-align: right;\n",
              "    }\n",
              "</style>\n",
              "<table border=\"1\" class=\"dataframe\">\n",
              "  <thead>\n",
              "    <tr style=\"text-align: right;\">\n",
              "      <th></th>\n",
              "      <th>id</th>\n",
              "      <th>qid1</th>\n",
              "      <th>qid2</th>\n",
              "      <th>question1</th>\n",
              "      <th>question2</th>\n",
              "      <th>is_duplicate</th>\n",
              "    </tr>\n",
              "  </thead>\n",
              "  <tbody>\n",
              "    <tr>\n",
              "      <th>248328</th>\n",
              "      <td>248328</td>\n",
              "      <td>361730</td>\n",
              "      <td>361731</td>\n",
              "      <td>Does money exist?</td>\n",
              "      <td>Why does money exist?</td>\n",
              "      <td>0</td>\n",
              "    </tr>\n",
              "    <tr>\n",
              "      <th>282470</th>\n",
              "      <td>282470</td>\n",
              "      <td>127844</td>\n",
              "      <td>1213</td>\n",
              "      <td>What are some recommended movies a person shou...</td>\n",
              "      <td>What movies would you recommend everyone to wa...</td>\n",
              "      <td>1</td>\n",
              "    </tr>\n",
              "    <tr>\n",
              "      <th>40335</th>\n",
              "      <td>40335</td>\n",
              "      <td>72991</td>\n",
              "      <td>72992</td>\n",
              "      <td>How can you check your Capital One credit card...</td>\n",
              "      <td>How often does Capital One up my credit line w...</td>\n",
              "      <td>0</td>\n",
              "    </tr>\n",
              "    <tr>\n",
              "      <th>328463</th>\n",
              "      <td>328463</td>\n",
              "      <td>455004</td>\n",
              "      <td>455005</td>\n",
              "      <td>How can I add Dublin Core to a website?</td>\n",
              "      <td>How do you add Dublin Core to website?</td>\n",
              "      <td>1</td>\n",
              "    </tr>\n",
              "    <tr>\n",
              "      <th>364337</th>\n",
              "      <td>364337</td>\n",
              "      <td>494407</td>\n",
              "      <td>494408</td>\n",
              "      <td>Do we develop a tolerance to endorphin rushes?</td>\n",
              "      <td>How much can I raise my 3.77 weighted GPA as a...</td>\n",
              "      <td>0</td>\n",
              "    </tr>\n",
              "    <tr>\n",
              "      <th>234711</th>\n",
              "      <td>234711</td>\n",
              "      <td>345282</td>\n",
              "      <td>345283</td>\n",
              "      <td>Having worked in Banking, what do you do now i...</td>\n",
              "      <td>Having worked in Banking, what do you do now i...</td>\n",
              "      <td>1</td>\n",
              "    </tr>\n",
              "    <tr>\n",
              "      <th>165513</th>\n",
              "      <td>165513</td>\n",
              "      <td>40833</td>\n",
              "      <td>121010</td>\n",
              "      <td>How do people still think the Earth is flat ev...</td>\n",
              "      <td>I know some people that STILL believe the eart...</td>\n",
              "      <td>1</td>\n",
              "    </tr>\n",
              "    <tr>\n",
              "      <th>399295</th>\n",
              "      <td>399295</td>\n",
              "      <td>72725</td>\n",
              "      <td>532546</td>\n",
              "      <td>How do you fall asleep fast when you are not t...</td>\n",
              "      <td>How can you avoid falling asleep easily?</td>\n",
              "      <td>0</td>\n",
              "    </tr>\n",
              "    <tr>\n",
              "      <th>90127</th>\n",
              "      <td>90127</td>\n",
              "      <td>151295</td>\n",
              "      <td>151296</td>\n",
              "      <td>What is Polavaram project issue and how the co...</td>\n",
              "      <td>How do peacocks build their nests?</td>\n",
              "      <td>0</td>\n",
              "    </tr>\n",
              "    <tr>\n",
              "      <th>58188</th>\n",
              "      <td>58188</td>\n",
              "      <td>102129</td>\n",
              "      <td>102130</td>\n",
              "      <td>Which is the best route to travel throughout I...</td>\n",
              "      <td>Which are the best ways to strengthen one's pr...</td>\n",
              "      <td>0</td>\n",
              "    </tr>\n",
              "  </tbody>\n",
              "</table>\n",
              "</div>\n",
              "      <button class=\"colab-df-convert\" onclick=\"convertToInteractive('df-1eaf673b-f54f-43ac-b72d-a97399ca6c17')\"\n",
              "              title=\"Convert this dataframe to an interactive table.\"\n",
              "              style=\"display:none;\">\n",
              "        \n",
              "  <svg xmlns=\"http://www.w3.org/2000/svg\" height=\"24px\"viewBox=\"0 0 24 24\"\n",
              "       width=\"24px\">\n",
              "    <path d=\"M0 0h24v24H0V0z\" fill=\"none\"/>\n",
              "    <path d=\"M18.56 5.44l.94 2.06.94-2.06 2.06-.94-2.06-.94-.94-2.06-.94 2.06-2.06.94zm-11 1L8.5 8.5l.94-2.06 2.06-.94-2.06-.94L8.5 2.5l-.94 2.06-2.06.94zm10 10l.94 2.06.94-2.06 2.06-.94-2.06-.94-.94-2.06-.94 2.06-2.06.94z\"/><path d=\"M17.41 7.96l-1.37-1.37c-.4-.4-.92-.59-1.43-.59-.52 0-1.04.2-1.43.59L10.3 9.45l-7.72 7.72c-.78.78-.78 2.05 0 2.83L4 21.41c.39.39.9.59 1.41.59.51 0 1.02-.2 1.41-.59l7.78-7.78 2.81-2.81c.8-.78.8-2.07 0-2.86zM5.41 20L4 18.59l7.72-7.72 1.47 1.35L5.41 20z\"/>\n",
              "  </svg>\n",
              "      </button>\n",
              "      \n",
              "  <style>\n",
              "    .colab-df-container {\n",
              "      display:flex;\n",
              "      flex-wrap:wrap;\n",
              "      gap: 12px;\n",
              "    }\n",
              "\n",
              "    .colab-df-convert {\n",
              "      background-color: #E8F0FE;\n",
              "      border: none;\n",
              "      border-radius: 50%;\n",
              "      cursor: pointer;\n",
              "      display: none;\n",
              "      fill: #1967D2;\n",
              "      height: 32px;\n",
              "      padding: 0 0 0 0;\n",
              "      width: 32px;\n",
              "    }\n",
              "\n",
              "    .colab-df-convert:hover {\n",
              "      background-color: #E2EBFA;\n",
              "      box-shadow: 0px 1px 2px rgba(60, 64, 67, 0.3), 0px 1px 3px 1px rgba(60, 64, 67, 0.15);\n",
              "      fill: #174EA6;\n",
              "    }\n",
              "\n",
              "    [theme=dark] .colab-df-convert {\n",
              "      background-color: #3B4455;\n",
              "      fill: #D2E3FC;\n",
              "    }\n",
              "\n",
              "    [theme=dark] .colab-df-convert:hover {\n",
              "      background-color: #434B5C;\n",
              "      box-shadow: 0px 1px 3px 1px rgba(0, 0, 0, 0.15);\n",
              "      filter: drop-shadow(0px 1px 2px rgba(0, 0, 0, 0.3));\n",
              "      fill: #FFFFFF;\n",
              "    }\n",
              "  </style>\n",
              "\n",
              "      <script>\n",
              "        const buttonEl =\n",
              "          document.querySelector('#df-1eaf673b-f54f-43ac-b72d-a97399ca6c17 button.colab-df-convert');\n",
              "        buttonEl.style.display =\n",
              "          google.colab.kernel.accessAllowed ? 'block' : 'none';\n",
              "\n",
              "        async function convertToInteractive(key) {\n",
              "          const element = document.querySelector('#df-1eaf673b-f54f-43ac-b72d-a97399ca6c17');\n",
              "          const dataTable =\n",
              "            await google.colab.kernel.invokeFunction('convertToInteractive',\n",
              "                                                     [key], {});\n",
              "          if (!dataTable) return;\n",
              "\n",
              "          const docLinkHtml = 'Like what you see? Visit the ' +\n",
              "            '<a target=\"_blank\" href=https://colab.research.google.com/notebooks/data_table.ipynb>data table notebook</a>'\n",
              "            + ' to learn more about interactive tables.';\n",
              "          element.innerHTML = '';\n",
              "          dataTable['output_type'] = 'display_data';\n",
              "          await google.colab.output.renderOutput(dataTable, element);\n",
              "          const docLink = document.createElement('div');\n",
              "          docLink.innerHTML = docLinkHtml;\n",
              "          element.appendChild(docLink);\n",
              "        }\n",
              "      </script>\n",
              "    </div>\n",
              "  </div>\n",
              "  "
            ]
          },
          "metadata": {},
          "execution_count": 6
        }
      ],
      "source": [
        "df.sample(10)"
      ]
    },
    {
      "cell_type": "code",
      "execution_count": 7,
      "metadata": {
        "colab": {
          "base_uri": "https://localhost:8080/"
        },
        "id": "X13ILhgZ8iQ-",
        "outputId": "4793f402-31cd-4e25-8504-6f43207086e3"
      },
      "outputs": [
        {
          "output_type": "execute_result",
          "data": {
            "text/plain": [
              "id              0\n",
              "qid1            0\n",
              "qid2            0\n",
              "question1       0\n",
              "question2       0\n",
              "is_duplicate    0\n",
              "dtype: int64"
            ]
          },
          "metadata": {},
          "execution_count": 7
        }
      ],
      "source": [
        "# missing values\n",
        "df.isnull().sum()"
      ]
    },
    {
      "cell_type": "code",
      "execution_count": 8,
      "metadata": {
        "colab": {
          "base_uri": "https://localhost:8080/"
        },
        "id": "6PG_DvskiQWN",
        "outputId": "43153ba1-ce81-433c-e723-c2eccdf551b8"
      },
      "outputs": [
        {
          "output_type": "execute_result",
          "data": {
            "text/plain": [
              "0    19013\n",
              "1    10987\n",
              "Name: is_duplicate, dtype: int64"
            ]
          },
          "metadata": {},
          "execution_count": 8
        }
      ],
      "source": [
        "df[\"is_duplicate\"].value_counts()"
      ]
    },
    {
      "cell_type": "code",
      "execution_count": 9,
      "metadata": {
        "colab": {
          "base_uri": "https://localhost:8080/"
        },
        "id": "PCbFvllVi_rN",
        "outputId": "565fee70-d7eb-430f-962e-0fa6a43dbe83"
      },
      "outputs": [
        {
          "output_type": "execute_result",
          "data": {
            "text/plain": [
              "0    63.376667\n",
              "1    36.623333\n",
              "Name: is_duplicate, dtype: float64"
            ]
          },
          "metadata": {},
          "execution_count": 9
        }
      ],
      "source": [
        "(df[\"is_duplicate\"].value_counts()/len(df))*100"
      ]
    },
    {
      "cell_type": "code",
      "execution_count": 10,
      "metadata": {
        "colab": {
          "base_uri": "https://localhost:8080/"
        },
        "id": "NHjdkPPGrg81",
        "outputId": "ac0ef47e-6733-4083-e1a5-2bfb21630138"
      },
      "outputs": [
        {
          "output_type": "execute_result",
          "data": {
            "text/plain": [
              "398782    496695\n",
              "115086    187729\n",
              "327711    454161\n",
              "367788    498109\n",
              "151235    237843\n",
              "           ...  \n",
              "243932     26193\n",
              "91980     154063\n",
              "266955    133017\n",
              "71112     122427\n",
              "312470    436915\n",
              "Name: qid1, Length: 30000, dtype: int64"
            ]
          },
          "metadata": {},
          "execution_count": 10
        }
      ],
      "source": [
        "df['qid1']"
      ]
    },
    {
      "cell_type": "code",
      "execution_count": 11,
      "metadata": {
        "id": "1_nlEnyCjFnI"
      },
      "outputs": [],
      "source": [
        "qid = pd.Series(df['qid1'].tolist() + df['qid2'].tolist())"
      ]
    },
    {
      "cell_type": "code",
      "execution_count": 12,
      "metadata": {
        "colab": {
          "base_uri": "https://localhost:8080/"
        },
        "id": "1pWZEPgFqqq4",
        "outputId": "b15134a1-4b6d-416a-fefa-b9b114dd7761"
      },
      "outputs": [
        {
          "output_type": "stream",
          "name": "stdout",
          "text": [
            "Number of unique questions 55299\n",
            "Number of questions getting repeated 3480\n"
          ]
        }
      ],
      "source": [
        "print('Number of unique questions',np.unique(qid).shape[0])\n",
        "x = qid.value_counts()>1\n",
        "print('Number of questions getting repeated',x[x].shape[0])"
      ]
    },
    {
      "cell_type": "code",
      "execution_count": 13,
      "metadata": {
        "colab": {
          "base_uri": "https://localhost:8080/"
        },
        "id": "1ESohD9owDj4",
        "outputId": "2775a5f7-3b44-4fa0-a20e-af347fa78861"
      },
      "outputs": [
        {
          "output_type": "execute_result",
          "data": {
            "text/plain": [
              "2374      8\n",
              "4044      8\n",
              "11264     8\n",
              "1063      7\n",
              "2439      7\n",
              "         ..\n",
              "151429    1\n",
              "243997    1\n",
              "106522    1\n",
              "110122    1\n",
              "436916    1\n",
              "Length: 55299, dtype: int64"
            ]
          },
          "metadata": {},
          "execution_count": 13
        }
      ],
      "source": [
        "qid.value_counts()"
      ]
    },
    {
      "cell_type": "code",
      "execution_count": 14,
      "metadata": {
        "colab": {
          "base_uri": "https://localhost:8080/",
          "height": 430
        },
        "id": "yrkvmXOVwN1Y",
        "outputId": "7afa42ab-878e-44c8-d10d-2d7ec8d8a068"
      },
      "outputs": [
        {
          "output_type": "display_data",
          "data": {
            "text/plain": [
              "<Figure size 640x480 with 1 Axes>"
            ],
            "image/png": "[encoded data removed]"
          },
          "metadata": {}
        }
      ],
      "source": [
        "plt.hist(qid.value_counts().values, bins =100)\n",
        "plt.yscale('log')\n",
        "plt.show()"
      ]
    },
    {
      "cell_type": "code",
      "execution_count": 14,
      "metadata": {
        "id": "O3QiQLGozMr-"
      },
      "outputs": [],
      "source": []
    },
    {
      "cell_type": "code",
      "execution_count": 15,
      "metadata": {
        "id": "l8C0hJuPzMxC"
      },
      "outputs": [],
      "source": [
        "def preprocess(q):\n",
        "\n",
        "    q = str(q).lower().strip()\n",
        "\n",
        "    # Replace certain special characters with their string equivalents\n",
        "    q = q.replace('%', ' percent')\n",
        "    q = q.replace('$', ' dollar ')\n",
        "    q = q.replace('₹', ' rupee ')\n",
        "    q = q.replace('€', ' euro ')\n",
        "    q = q.replace('@', ' at ')\n",
        "\n",
        "    # The pattern '[math]' appears around 900 times in the whole dataset.\n",
        "    q = q.replace('[math]', '')\n",
        "\n",
        "    # Replacing some numbers with string equivalents (not perfect, can be done better to account for more cases)\n",
        "    q = q.replace(',000,000,000 ', 'b ')\n",
        "    q = q.replace(',000,000 ', 'm ')\n",
        "    q = q.replace(',000 ', 'k ')\n",
        "    q = re.sub(r'([0-9]+)000000000', r'\\1b', q)\n",
        "    q = re.sub(r'([0-9]+)000000', r'\\1m', q)\n",
        "    q = re.sub(r'([0-9]+)000', r'\\1k', q)\n",
        "\n",
        "    # Decontracting words\n",
        "    # https://en.wikipedia.org/wiki/Wikipedia%3aList_of_English_contractions\n",
        "    # https://stackoverflow.com/a/19794953\n",
        "    contractions = {\n",
        "    \"ain't\": \"am not\",\n",
        "    \"aren't\": \"are not\",\n",
        "    \"can't\": \"can not\",\n",
        "    \"can't've\": \"can not have\",\n",
        "    \"'cause\": \"because\",\n",
        "    \"could've\": \"could have\",\n",
        "    \"couldn't\": \"could not\",\n",
        "    \"couldn't've\": \"could not have\",\n",
        "    \"didn't\": \"did not\",\n",
        "    \"doesn't\": \"does not\",\n",
        "    \"don't\": \"do not\",\n",
        "    \"hadn't\": \"had not\",\n",
        "    \"hadn't've\": \"had not have\",\n",
        "    \"hasn't\": \"has not\",\n",
        "    \"haven't\": \"have not\",\n",
        "    \"he'd\": \"he would\",\n",
        "    \"he'd've\": \"he would have\",\n",
        "    \"he'll\": \"he will\",\n",
        "    \"he'll've\": \"he will have\",\n",
        "    \"he's\": \"he is\",\n",
        "    \"how'd\": \"how did\",\n",
        "    \"how'd'y\": \"how do you\",\n",
        "    \"how'll\": \"how will\",\n",
        "    \"how's\": \"how is\",\n",
        "    \"i'd\": \"i would\",\n",
        "    \"i'd've\": \"i would have\",\n",
        "    \"i'll\": \"i will\",\n",
        "    \"i'll've\": \"i will have\",\n",
        "    \"i'm\": \"i am\",\n",
        "    \"i've\": \"i have\",\n",
        "    \"isn't\": \"is not\",\n",
        "    \"it'd\": \"it would\",\n",
        "    \"it'd've\": \"it would have\",\n",
        "    \"it'll\": \"it will\",\n",
        "    \"it'll've\": \"it will have\",\n",
        "    \"it's\": \"it is\",\n",
        "    \"let's\": \"let us\",\n",
        "    \"ma'am\": \"madam\",\n",
        "    \"mayn't\": \"may not\",\n",
        "    \"might've\": \"might have\",\n",
        "    \"mightn't\": \"might not\",\n",
        "    \"mightn't've\": \"might not have\",\n",
        "    \"must've\": \"must have\",\n",
        "    \"mustn't\": \"must not\",\n",
        "    \"mustn't've\": \"must not have\",\n",
        "    \"needn't\": \"need not\",\n",
        "    \"needn't've\": \"need not have\",\n",
        "    \"o'clock\": \"of the clock\",\n",
        "    \"oughtn't\": \"ought not\",\n",
        "    \"oughtn't've\": \"ought not have\",\n",
        "    \"shan't\": \"shall not\",\n",
        "    \"sha'n't\": \"shall not\",\n",
        "    \"shan't've\": \"shall not have\",\n",
        "    \"she'd\": \"she would\",\n",
        "    \"she'd've\": \"she would have\",\n",
        "    \"she'll\": \"she will\",\n",
        "    \"she'll've\": \"she will have\",\n",
        "    \"she's\": \"she is\",\n",
        "    \"should've\": \"should have\",\n",
        "    \"shouldn't\": \"should not\",\n",
        "    \"shouldn't've\": \"should not have\",\n",
        "    \"so've\": \"so have\",\n",
        "    \"so's\": \"so as\",\n",
        "    \"that'd\": \"that would\",\n",
        "    \"that'd've\": \"that would have\",\n",
        "    \"that's\": \"that is\",\n",
        "    \"there'd\": \"there would\",\n",
        "    \"there'd've\": \"there would have\",\n",
        "    \"there's\": \"there is\",\n",
        "    \"they'd\": \"they would\",\n",
        "    \"they'd've\": \"they would have\",\n",
        "    \"they'll\": \"they will\",\n",
        "    \"they'll've\": \"they will have\",\n",
        "    \"they're\": \"they are\",\n",
        "    \"they've\": \"they have\",\n",
        "    \"to've\": \"to have\",\n",
        "    \"wasn't\": \"was not\",\n",
        "    \"we'd\": \"we would\",\n",
        "    \"we'd've\": \"we would have\",\n",
        "    \"we'll\": \"we will\",\n",
        "    \"we'll've\": \"we will have\",\n",
        "    \"we're\": \"we are\",\n",
        "    \"we've\": \"we have\",\n",
        "    \"weren't\": \"were not\",\n",
        "    \"what'll\": \"what will\",\n",
        "    \"what'll've\": \"what will have\",\n",
        "    \"what're\": \"what are\",\n",
        "    \"what's\": \"what is\",\n",
        "    \"what've\": \"what have\",\n",
        "    \"when's\": \"when is\",\n",
        "    \"when've\": \"when have\",\n",
        "    \"where'd\": \"where did\",\n",
        "    \"where's\": \"where is\",\n",
        "    \"where've\": \"where have\",\n",
        "    \"who'll\": \"who will\",\n",
        "    \"who'll've\": \"who will have\",\n",
        "    \"who's\": \"who is\",\n",
        "    \"who've\": \"who have\",\n",
        "    \"why's\": \"why is\",\n",
        "    \"why've\": \"why have\",\n",
        "    \"will've\": \"will have\",\n",
        "    \"won't\": \"will not\",\n",
        "    \"won't've\": \"will not have\",\n",
        "    \"would've\": \"would have\",\n",
        "    \"wouldn't\": \"would not\",\n",
        "    \"wouldn't've\": \"would not have\",\n",
        "    \"y'all\": \"you all\",\n",
        "    \"y'all'd\": \"you all would\",\n",
        "    \"y'all'd've\": \"you all would have\",\n",
        "    \"y'all're\": \"you all are\",\n",
        "    \"y'all've\": \"you all have\",\n",
        "    \"you'd\": \"you would\",\n",
        "    \"you'd've\": \"you would have\",\n",
        "    \"you'll\": \"you will\",\n",
        "    \"you'll've\": \"you will have\",\n",
        "    \"you're\": \"you are\",\n",
        "    \"you've\": \"you have\"\n",
        "    }\n",
        "\n",
        "    q_decontracted = []\n",
        "\n",
        "    for word in q.split():\n",
        "        if word in contractions:\n",
        "            word = contractions[word]\n",
        "\n",
        "        q_decontracted.append(word)\n",
        "\n",
        "    q = ' '.join(q_decontracted)\n",
        "    q = q.replace(\"'ve\", \" have\")\n",
        "    q = q.replace(\"n't\", \" not\")\n",
        "    q = q.replace(\"'re\", \" are\")\n",
        "    q = q.replace(\"'ll\", \" will\")\n",
        "\n",
        "    # Removing HTML tags\n",
        "    q = BeautifulSoup(q)\n",
        "    q = q.get_text()\n",
        "\n",
        "    # Remove punctuations\n",
        "    pattern = re.compile('\\W')\n",
        "    q = re.sub(pattern, ' ', q).strip()\n",
        "\n",
        "\n",
        "    return q\n"
      ]
    },
    {
      "cell_type": "code",
      "execution_count": 16,
      "metadata": {
        "id": "1aYlke3uzMzc"
      },
      "outputs": [],
      "source": [
        "df['question1'] = df['question1'].apply(preprocess)\n",
        "df['question2'] = df['question2'].apply(preprocess)"
      ]
    },
    {
      "cell_type": "code",
      "execution_count": 17,
      "metadata": {
        "colab": {
          "base_uri": "https://localhost:8080/",
          "height": 206
        },
        "id": "x6-d_mc3zM2E",
        "outputId": "efd0f1a1-db94-4680-f9b3-4d9b911ccb25"
      },
      "outputs": [
        {
          "output_type": "execute_result",
          "data": {
            "text/plain": [
              "            id    qid1    qid2  \\\n",
              "398782  398782  496695  532029   \n",
              "115086  115086  187729  187730   \n",
              "327711  327711  454161  454162   \n",
              "367788  367788  498109  491396   \n",
              "151235  151235  237843   50930   \n",
              "\n",
              "                                                question1  \\\n",
              "398782  what is the best marketing automation tool for...   \n",
              "115086   i am poor but i want to invest  what should i do   \n",
              "327711  i am from india and live abroad  i met a guy f...   \n",
              "367788  why do so many people in the u s  hate the sou...   \n",
              "151235                 consequences of bhopal gas tragedy   \n",
              "\n",
              "                                                question2  is_duplicate  \n",
              "398782  what is the best marketing automation tool for...             1  \n",
              "115086  i am quite poor and i want to be very rich  wh...             0  \n",
              "327711  t i e t to thapar university to thapar univers...             0  \n",
              "367788  my boyfriend doesnt feel guilty when he hurts ...             0  \n",
              "151235  what was the reason behind the bhopal gas tragedy             0  "
            ],
            "text/html": [
              "\n",
              "  <div id=\"df-d18372a9-9c88-49ca-8231-9f8ec2d1eb55\">\n",
              "    <div class=\"colab-df-container\">\n",
              "      <div>\n",
              "<style scoped>\n",
              "    .dataframe tbody tr th:only-of-type {\n",
              "        vertical-align: middle;\n",
              "    }\n",
              "\n",
              "    .dataframe tbody tr th {\n",
              "        vertical-align: top;\n",
              "    }\n",
              "\n",
              "    .dataframe thead th {\n",
              "        text-align: right;\n",
              "    }\n",
              "</style>\n",
              "<table border=\"1\" class=\"dataframe\">\n",
              "  <thead>\n",
              "    <tr style=\"text-align: right;\">\n",
              "      <th></th>\n",
              "      <th>id</th>\n",
              "      <th>qid1</th>\n",
              "      <th>qid2</th>\n",
              "      <th>question1</th>\n",
              "      <th>question2</th>\n",
              "      <th>is_duplicate</th>\n",
              "    </tr>\n",
              "  </thead>\n",
              "  <tbody>\n",
              "    <tr>\n",
              "      <th>398782</th>\n",
              "      <td>398782</td>\n",
              "      <td>496695</td>\n",
              "      <td>532029</td>\n",
              "      <td>what is the best marketing automation tool for...</td>\n",
              "      <td>what is the best marketing automation tool for...</td>\n",
              "      <td>1</td>\n",
              "    </tr>\n",
              "    <tr>\n",
              "      <th>115086</th>\n",
              "      <td>115086</td>\n",
              "      <td>187729</td>\n",
              "      <td>187730</td>\n",
              "      <td>i am poor but i want to invest  what should i do</td>\n",
              "      <td>i am quite poor and i want to be very rich  wh...</td>\n",
              "      <td>0</td>\n",
              "    </tr>\n",
              "    <tr>\n",
              "      <th>327711</th>\n",
              "      <td>327711</td>\n",
              "      <td>454161</td>\n",
              "      <td>454162</td>\n",
              "      <td>i am from india and live abroad  i met a guy f...</td>\n",
              "      <td>t i e t to thapar university to thapar univers...</td>\n",
              "      <td>0</td>\n",
              "    </tr>\n",
              "    <tr>\n",
              "      <th>367788</th>\n",
              "      <td>367788</td>\n",
              "      <td>498109</td>\n",
              "      <td>491396</td>\n",
              "      <td>why do so many people in the u s  hate the sou...</td>\n",
              "      <td>my boyfriend doesnt feel guilty when he hurts ...</td>\n",
              "      <td>0</td>\n",
              "    </tr>\n",
              "    <tr>\n",
              "      <th>151235</th>\n",
              "      <td>151235</td>\n",
              "      <td>237843</td>\n",
              "      <td>50930</td>\n",
              "      <td>consequences of bhopal gas tragedy</td>\n",
              "      <td>what was the reason behind the bhopal gas tragedy</td>\n",
              "      <td>0</td>\n",
              "    </tr>\n",
              "  </tbody>\n",
              "</table>\n",
              "</div>\n",
              "      <button class=\"colab-df-convert\" onclick=\"convertToInteractive('df-d18372a9-9c88-49ca-8231-9f8ec2d1eb55')\"\n",
              "              title=\"Convert this dataframe to an interactive table.\"\n",
              "              style=\"display:none;\">\n",
              "        \n",
              "  <svg xmlns=\"http://www.w3.org/2000/svg\" height=\"24px\"viewBox=\"0 0 24 24\"\n",
              "       width=\"24px\">\n",
              "    <path d=\"M0 0h24v24H0V0z\" fill=\"none\"/>\n",
              "    <path d=\"M18.56 5.44l.94 2.06.94-2.06 2.06-.94-2.06-.94-.94-2.06-.94 2.06-2.06.94zm-11 1L8.5 8.5l.94-2.06 2.06-.94-2.06-.94L8.5 2.5l-.94 2.06-2.06.94zm10 10l.94 2.06.94-2.06 2.06-.94-2.06-.94-.94-2.06-.94 2.06-2.06.94z\"/><path d=\"M17.41 7.96l-1.37-1.37c-.4-.4-.92-.59-1.43-.59-.52 0-1.04.2-1.43.59L10.3 9.45l-7.72 7.72c-.78.78-.78 2.05 0 2.83L4 21.41c.39.39.9.59 1.41.59.51 0 1.02-.2 1.41-.59l7.78-7.78 2.81-2.81c.8-.78.8-2.07 0-2.86zM5.41 20L4 18.59l7.72-7.72 1.47 1.35L5.41 20z\"/>\n",
              "  </svg>\n",
              "      </button>\n",
              "      \n",
              "  <style>\n",
              "    .colab-df-container {\n",
              "      display:flex;\n",
              "      flex-wrap:wrap;\n",
              "      gap: 12px;\n",
              "    }\n",
              "\n",
              "    .colab-df-convert {\n",
              "      background-color: #E8F0FE;\n",
              "      border: none;\n",
              "      border-radius: 50%;\n",
              "      cursor: pointer;\n",
              "      display: none;\n",
              "      fill: #1967D2;\n",
              "      height: 32px;\n",
              "      padding: 0 0 0 0;\n",
              "      width: 32px;\n",
              "    }\n",
              "\n",
              "    .colab-df-convert:hover {\n",
              "      background-color: #E2EBFA;\n",
              "      box-shadow: 0px 1px 2px rgba(60, 64, 67, 0.3), 0px 1px 3px 1px rgba(60, 64, 67, 0.15);\n",
              "      fill: #174EA6;\n",
              "    }\n",
              "\n",
              "    [theme=dark] .colab-df-convert {\n",
              "      background-color: #3B4455;\n",
              "      fill: #D2E3FC;\n",
              "    }\n",
              "\n",
              "    [theme=dark] .colab-df-convert:hover {\n",
              "      background-color: #434B5C;\n",
              "      box-shadow: 0px 1px 3px 1px rgba(0, 0, 0, 0.15);\n",
              "      filter: drop-shadow(0px 1px 2px rgba(0, 0, 0, 0.3));\n",
              "      fill: #FFFFFF;\n",
              "    }\n",
              "  </style>\n",
              "\n",
              "      <script>\n",
              "        const buttonEl =\n",
              "          document.querySelector('#df-d18372a9-9c88-49ca-8231-9f8ec2d1eb55 button.colab-df-convert');\n",
              "        buttonEl.style.display =\n",
              "          google.colab.kernel.accessAllowed ? 'block' : 'none';\n",
              "\n",
              "        async function convertToInteractive(key) {\n",
              "          const element = document.querySelector('#df-d18372a9-9c88-49ca-8231-9f8ec2d1eb55');\n",
              "          const dataTable =\n",
              "            await google.colab.kernel.invokeFunction('convertToInteractive',\n",
              "                                                     [key], {});\n",
              "          if (!dataTable) return;\n",
              "\n",
              "          const docLinkHtml = 'Like what you see? Visit the ' +\n",
              "            '<a target=\"_blank\" href=https://colab.research.google.com/notebooks/data_table.ipynb>data table notebook</a>'\n",
              "            + ' to learn more about interactive tables.';\n",
              "          element.innerHTML = '';\n",
              "          dataTable['output_type'] = 'display_data';\n",
              "          await google.colab.output.renderOutput(dataTable, element);\n",
              "          const docLink = document.createElement('div');\n",
              "          docLink.innerHTML = docLinkHtml;\n",
              "          element.appendChild(docLink);\n",
              "        }\n",
              "      </script>\n",
              "    </div>\n",
              "  </div>\n",
              "  "
            ]
          },
          "metadata": {},
          "execution_count": 17
        }
      ],
      "source": [
        "df.head(5)"
      ]
    },
    {
      "cell_type": "code",
      "execution_count": 18,
      "metadata": {
        "id": "_pyckLvYzM4q"
      },
      "outputs": [],
      "source": [
        "df['q1_len'] = df['question1'].str.len()\n",
        "df['q2_len'] = df['question2'].str.len()"
      ]
    },
    {
      "cell_type": "code",
      "execution_count": 19,
      "metadata": {
        "id": "0xbhMAKyzNCq"
      },
      "outputs": [],
      "source": [
        "df[\"q1_no_of_words\"] = df[\"question1\"].apply(lambda row: len(row.split(\" \")))\n",
        "df[\"q2_no_of_words\"] = df[\"question2\"].apply(lambda row: len(row.split(\" \")))\n"
      ]
    },
    {
      "cell_type": "code",
      "execution_count": 20,
      "metadata": {
        "colab": {
          "base_uri": "https://localhost:8080/",
          "height": 206
        },
        "id": "Y73CpogJ4OuO",
        "outputId": "51509f30-e20e-4dc3-fa71-3d9ed2f0eb35"
      },
      "outputs": [
        {
          "output_type": "execute_result",
          "data": {
            "text/plain": [
              "            id    qid1    qid2  \\\n",
              "398782  398782  496695  532029   \n",
              "115086  115086  187729  187730   \n",
              "327711  327711  454161  454162   \n",
              "367788  367788  498109  491396   \n",
              "151235  151235  237843   50930   \n",
              "\n",
              "                                                question1  \\\n",
              "398782  what is the best marketing automation tool for...   \n",
              "115086   i am poor but i want to invest  what should i do   \n",
              "327711  i am from india and live abroad  i met a guy f...   \n",
              "367788  why do so many people in the u s  hate the sou...   \n",
              "151235                 consequences of bhopal gas tragedy   \n",
              "\n",
              "                                                question2  is_duplicate  \\\n",
              "398782  what is the best marketing automation tool for...             1   \n",
              "115086  i am quite poor and i want to be very rich  wh...             0   \n",
              "327711  t i e t to thapar university to thapar univers...             0   \n",
              "367788  my boyfriend doesnt feel guilty when he hurts ...             0   \n",
              "151235  what was the reason behind the bhopal gas tragedy             0   \n",
              "\n",
              "        q1_len  q2_len  q1_no_of_words  q2_no_of_words  \n",
              "398782      75      76              13              13  \n",
              "115086      48      56              13              16  \n",
              "327711     104     119              28              21  \n",
              "367788      58     145              14              32  \n",
              "151235      34      49               5               9  "
            ],
            "text/html": [
              "\n",
              "  <div id=\"df-d4d807a1-a515-4460-a7a2-cf69844ae741\">\n",
              "    <div class=\"colab-df-container\">\n",
              "      <div>\n",
              "<style scoped>\n",
              "    .dataframe tbody tr th:only-of-type {\n",
              "        vertical-align: middle;\n",
              "    }\n",
              "\n",
              "    .dataframe tbody tr th {\n",
              "        vertical-align: top;\n",
              "    }\n",
              "\n",
              "    .dataframe thead th {\n",
              "        text-align: right;\n",
              "    }\n",
              "</style>\n",
              "<table border=\"1\" class=\"dataframe\">\n",
              "  <thead>\n",
              "    <tr style=\"text-align: right;\">\n",
              "      <th></th>\n",
              "      <th>id</th>\n",
              "      <th>qid1</th>\n",
              "      <th>qid2</th>\n",
              "      <th>question1</th>\n",
              "      <th>question2</th>\n",
              "      <th>is_duplicate</th>\n",
              "      <th>q1_len</th>\n",
              "      <th>q2_len</th>\n",
              "      <th>q1_no_of_words</th>\n",
              "      <th>q2_no_of_words</th>\n",
              "    </tr>\n",
              "  </thead>\n",
              "  <tbody>\n",
              "    <tr>\n",
              "      <th>398782</th>\n",
              "      <td>398782</td>\n",
              "      <td>496695</td>\n",
              "      <td>532029</td>\n",
              "      <td>what is the best marketing automation tool for...</td>\n",
              "      <td>what is the best marketing automation tool for...</td>\n",
              "      <td>1</td>\n",
              "      <td>75</td>\n",
              "      <td>76</td>\n",
              "      <td>13</td>\n",
              "      <td>13</td>\n",
              "    </tr>\n",
              "    <tr>\n",
              "      <th>115086</th>\n",
              "      <td>115086</td>\n",
              "      <td>187729</td>\n",
              "      <td>187730</td>\n",
              "      <td>i am poor but i want to invest  what should i do</td>\n",
              "      <td>i am quite poor and i want to be very rich  wh...</td>\n",
              "      <td>0</td>\n",
              "      <td>48</td>\n",
              "      <td>56</td>\n",
              "      <td>13</td>\n",
              "      <td>16</td>\n",
              "    </tr>\n",
              "    <tr>\n",
              "      <th>327711</th>\n",
              "      <td>327711</td>\n",
              "      <td>454161</td>\n",
              "      <td>454162</td>\n",
              "      <td>i am from india and live abroad  i met a guy f...</td>\n",
              "      <td>t i e t to thapar university to thapar univers...</td>\n",
              "      <td>0</td>\n",
              "      <td>104</td>\n",
              "      <td>119</td>\n",
              "      <td>28</td>\n",
              "      <td>21</td>\n",
              "    </tr>\n",
              "    <tr>\n",
              "      <th>367788</th>\n",
              "      <td>367788</td>\n",
              "      <td>498109</td>\n",
              "      <td>491396</td>\n",
              "      <td>why do so many people in the u s  hate the sou...</td>\n",
              "      <td>my boyfriend doesnt feel guilty when he hurts ...</td>\n",
              "      <td>0</td>\n",
              "      <td>58</td>\n",
              "      <td>145</td>\n",
              "      <td>14</td>\n",
              "      <td>32</td>\n",
              "    </tr>\n",
              "    <tr>\n",
              "      <th>151235</th>\n",
              "      <td>151235</td>\n",
              "      <td>237843</td>\n",
              "      <td>50930</td>\n",
              "      <td>consequences of bhopal gas tragedy</td>\n",
              "      <td>what was the reason behind the bhopal gas tragedy</td>\n",
              "      <td>0</td>\n",
              "      <td>34</td>\n",
              "      <td>49</td>\n",
              "      <td>5</td>\n",
              "      <td>9</td>\n",
              "    </tr>\n",
              "  </tbody>\n",
              "</table>\n",
              "</div>\n",
              "      <button class=\"colab-df-convert\" onclick=\"convertToInteractive('df-d4d807a1-a515-4460-a7a2-cf69844ae741')\"\n",
              "              title=\"Convert this dataframe to an interactive table.\"\n",
              "              style=\"display:none;\">\n",
              "        \n",
              "  <svg xmlns=\"http://www.w3.org/2000/svg\" height=\"24px\"viewBox=\"0 0 24 24\"\n",
              "       width=\"24px\">\n",
              "    <path d=\"M0 0h24v24H0V0z\" fill=\"none\"/>\n",
              "    <path d=\"M18.56 5.44l.94 2.06.94-2.06 2.06-.94-2.06-.94-.94-2.06-.94 2.06-2.06.94zm-11 1L8.5 8.5l.94-2.06 2.06-.94-2.06-.94L8.5 2.5l-.94 2.06-2.06.94zm10 10l.94 2.06.94-2.06 2.06-.94-2.06-.94-.94-2.06-.94 2.06-2.06.94z\"/><path d=\"M17.41 7.96l-1.37-1.37c-.4-.4-.92-.59-1.43-.59-.52 0-1.04.2-1.43.59L10.3 9.45l-7.72 7.72c-.78.78-.78 2.05 0 2.83L4 21.41c.39.39.9.59 1.41.59.51 0 1.02-.2 1.41-.59l7.78-7.78 2.81-2.81c.8-.78.8-2.07 0-2.86zM5.41 20L4 18.59l7.72-7.72 1.47 1.35L5.41 20z\"/>\n",
              "  </svg>\n",
              "      </button>\n",
              "      \n",
              "  <style>\n",
              "    .colab-df-container {\n",
              "      display:flex;\n",
              "      flex-wrap:wrap;\n",
              "      gap: 12px;\n",
              "    }\n",
              "\n",
              "    .colab-df-convert {\n",
              "      background-color: #E8F0FE;\n",
              "      border: none;\n",
              "      border-radius: 50%;\n",
              "      cursor: pointer;\n",
              "      display: none;\n",
              "      fill: #1967D2;\n",
              "      height: 32px;\n",
              "      padding: 0 0 0 0;\n",
              "      width: 32px;\n",
              "    }\n",
              "\n",
              "    .colab-df-convert:hover {\n",
              "      background-color: #E2EBFA;\n",
              "      box-shadow: 0px 1px 2px rgba(60, 64, 67, 0.3), 0px 1px 3px 1px rgba(60, 64, 67, 0.15);\n",
              "      fill: #174EA6;\n",
              "    }\n",
              "\n",
              "    [theme=dark] .colab-df-convert {\n",
              "      background-color: #3B4455;\n",
              "      fill: #D2E3FC;\n",
              "    }\n",
              "\n",
              "    [theme=dark] .colab-df-convert:hover {\n",
              "      background-color: #434B5C;\n",
              "      box-shadow: 0px 1px 3px 1px rgba(0, 0, 0, 0.15);\n",
              "      filter: drop-shadow(0px 1px 2px rgba(0, 0, 0, 0.3));\n",
              "      fill: #FFFFFF;\n",
              "    }\n",
              "  </style>\n",
              "\n",
              "      <script>\n",
              "        const buttonEl =\n",
              "          document.querySelector('#df-d4d807a1-a515-4460-a7a2-cf69844ae741 button.colab-df-convert');\n",
              "        buttonEl.style.display =\n",
              "          google.colab.kernel.accessAllowed ? 'block' : 'none';\n",
              "\n",
              "        async function convertToInteractive(key) {\n",
              "          const element = document.querySelector('#df-d4d807a1-a515-4460-a7a2-cf69844ae741');\n",
              "          const dataTable =\n",
              "            await google.colab.kernel.invokeFunction('convertToInteractive',\n",
              "                                                     [key], {});\n",
              "          if (!dataTable) return;\n",
              "\n",
              "          const docLinkHtml = 'Like what you see? Visit the ' +\n",
              "            '<a target=\"_blank\" href=https://colab.research.google.com/notebooks/data_table.ipynb>data table notebook</a>'\n",
              "            + ' to learn more about interactive tables.';\n",
              "          element.innerHTML = '';\n",
              "          dataTable['output_type'] = 'display_data';\n",
              "          await google.colab.output.renderOutput(dataTable, element);\n",
              "          const docLink = document.createElement('div');\n",
              "          docLink.innerHTML = docLinkHtml;\n",
              "          element.appendChild(docLink);\n",
              "        }\n",
              "      </script>\n",
              "    </div>\n",
              "  </div>\n",
              "  "
            ]
          },
          "metadata": {},
          "execution_count": 20
        }
      ],
      "source": [
        "df.head()"
      ]
    },
    {
      "cell_type": "code",
      "execution_count": 21,
      "metadata": {
        "id": "0CApaSA04B-b"
      },
      "outputs": [],
      "source": [
        "def common_words(row):\n",
        "  wa = set(map(lambda word: word.lower().strip(), row[\"question1\"].split(\" \")))\n",
        "  wb = set(map(lambda word: word.lower().strip(),row[\"question2\"].split(\" \")))\n",
        "  return len(wa & wb)\n"
      ]
    },
    {
      "cell_type": "code",
      "execution_count": 22,
      "metadata": {
        "id": "r2R5qdE_l3_7"
      },
      "outputs": [],
      "source": [
        "df[\"common_words\"] = df.apply(common_words,axis =1)"
      ]
    },
    {
      "cell_type": "code",
      "execution_count": 23,
      "metadata": {
        "colab": {
          "base_uri": "https://localhost:8080/",
          "height": 250
        },
        "id": "zTXeDsmj4Xs5",
        "outputId": "82923cd4-a901-4d28-896a-b909a37b3d9f"
      },
      "outputs": [
        {
          "output_type": "execute_result",
          "data": {
            "text/plain": [
              "            id    qid1    qid2  \\\n",
              "398782  398782  496695  532029   \n",
              "115086  115086  187729  187730   \n",
              "327711  327711  454161  454162   \n",
              "367788  367788  498109  491396   \n",
              "151235  151235  237843   50930   \n",
              "\n",
              "                                                question1  \\\n",
              "398782  what is the best marketing automation tool for...   \n",
              "115086   i am poor but i want to invest  what should i do   \n",
              "327711  i am from india and live abroad  i met a guy f...   \n",
              "367788  why do so many people in the u s  hate the sou...   \n",
              "151235                 consequences of bhopal gas tragedy   \n",
              "\n",
              "                                                question2  is_duplicate  \\\n",
              "398782  what is the best marketing automation tool for...             1   \n",
              "115086  i am quite poor and i want to be very rich  wh...             0   \n",
              "327711  t i e t to thapar university to thapar univers...             0   \n",
              "367788  my boyfriend doesnt feel guilty when he hurts ...             0   \n",
              "151235  what was the reason behind the bhopal gas tragedy             0   \n",
              "\n",
              "        q1_len  q2_len  q1_no_of_words  q2_no_of_words  common_words  \n",
              "398782      75      76              13              13            12  \n",
              "115086      48      56              13              16             8  \n",
              "327711     104     119              28              21             4  \n",
              "367788      58     145              14              32             1  \n",
              "151235      34      49               5               9             3  "
            ],
            "text/html": [
              "\n",
              "  <div id=\"df-cc5d885b-40db-43b2-8634-e9839486f3d8\">\n",
              "    <div class=\"colab-df-container\">\n",
              "      <div>\n",
              "<style scoped>\n",
              "    .dataframe tbody tr th:only-of-type {\n",
              "        vertical-align: middle;\n",
              "    }\n",
              "\n",
              "    .dataframe tbody tr th {\n",
              "        vertical-align: top;\n",
              "    }\n",
              "\n",
              "    .dataframe thead th {\n",
              "        text-align: right;\n",
              "    }\n",
              "</style>\n",
              "<table border=\"1\" class=\"dataframe\">\n",
              "  <thead>\n",
              "    <tr style=\"text-align: right;\">\n",
              "      <th></th>\n",
              "      <th>id</th>\n",
              "      <th>qid1</th>\n",
              "      <th>qid2</th>\n",
              "      <th>question1</th>\n",
              "      <th>question2</th>\n",
              "      <th>is_duplicate</th>\n",
              "      <th>q1_len</th>\n",
              "      <th>q2_len</th>\n",
              "      <th>q1_no_of_words</th>\n",
              "      <th>q2_no_of_words</th>\n",
              "      <th>common_words</th>\n",
              "    </tr>\n",
              "  </thead>\n",
              "  <tbody>\n",
              "    <tr>\n",
              "      <th>398782</th>\n",
              "      <td>398782</td>\n",
              "      <td>496695</td>\n",
              "      <td>532029</td>\n",
              "      <td>what is the best marketing automation tool for...</td>\n",
              "      <td>what is the best marketing automation tool for...</td>\n",
              "      <td>1</td>\n",
              "      <td>75</td>\n",
              "      <td>76</td>\n",
              "      <td>13</td>\n",
              "      <td>13</td>\n",
              "      <td>12</td>\n",
              "    </tr>\n",
              "    <tr>\n",
              "      <th>115086</th>\n",
              "      <td>115086</td>\n",
              "      <td>187729</td>\n",
              "      <td>187730</td>\n",
              "      <td>i am poor but i want to invest  what should i do</td>\n",
              "      <td>i am quite poor and i want to be very rich  wh...</td>\n",
              "      <td>0</td>\n",
              "      <td>48</td>\n",
              "      <td>56</td>\n",
              "      <td>13</td>\n",
              "      <td>16</td>\n",
              "      <td>8</td>\n",
              "    </tr>\n",
              "    <tr>\n",
              "      <th>327711</th>\n",
              "      <td>327711</td>\n",
              "      <td>454161</td>\n",
              "      <td>454162</td>\n",
              "      <td>i am from india and live abroad  i met a guy f...</td>\n",
              "      <td>t i e t to thapar university to thapar univers...</td>\n",
              "      <td>0</td>\n",
              "      <td>104</td>\n",
              "      <td>119</td>\n",
              "      <td>28</td>\n",
              "      <td>21</td>\n",
              "      <td>4</td>\n",
              "    </tr>\n",
              "    <tr>\n",
              "      <th>367788</th>\n",
              "      <td>367788</td>\n",
              "      <td>498109</td>\n",
              "      <td>491396</td>\n",
              "      <td>why do so many people in the u s  hate the sou...</td>\n",
              "      <td>my boyfriend doesnt feel guilty when he hurts ...</td>\n",
              "      <td>0</td>\n",
              "      <td>58</td>\n",
              "      <td>145</td>\n",
              "      <td>14</td>\n",
              "      <td>32</td>\n",
              "      <td>1</td>\n",
              "    </tr>\n",
              "    <tr>\n",
              "      <th>151235</th>\n",
              "      <td>151235</td>\n",
              "      <td>237843</td>\n",
              "      <td>50930</td>\n",
              "      <td>consequences of bhopal gas tragedy</td>\n",
              "      <td>what was the reason behind the bhopal gas tragedy</td>\n",
              "      <td>0</td>\n",
              "      <td>34</td>\n",
              "      <td>49</td>\n",
              "      <td>5</td>\n",
              "      <td>9</td>\n",
              "      <td>3</td>\n",
              "    </tr>\n",
              "  </tbody>\n",
              "</table>\n",
              "</div>\n",
              "      <button class=\"colab-df-convert\" onclick=\"convertToInteractive('df-cc5d885b-40db-43b2-8634-e9839486f3d8')\"\n",
              "              title=\"Convert this dataframe to an interactive table.\"\n",
              "              style=\"display:none;\">\n",
              "        \n",
              "  <svg xmlns=\"http://www.w3.org/2000/svg\" height=\"24px\"viewBox=\"0 0 24 24\"\n",
              "       width=\"24px\">\n",
              "    <path d=\"M0 0h24v24H0V0z\" fill=\"none\"/>\n",
              "    <path d=\"M18.56 5.44l.94 2.06.94-2.06 2.06-.94-2.06-.94-.94-2.06-.94 2.06-2.06.94zm-11 1L8.5 8.5l.94-2.06 2.06-.94-2.06-.94L8.5 2.5l-.94 2.06-2.06.94zm10 10l.94 2.06.94-2.06 2.06-.94-2.06-.94-.94-2.06-.94 2.06-2.06.94z\"/><path d=\"M17.41 7.96l-1.37-1.37c-.4-.4-.92-.59-1.43-.59-.52 0-1.04.2-1.43.59L10.3 9.45l-7.72 7.72c-.78.78-.78 2.05 0 2.83L4 21.41c.39.39.9.59 1.41.59.51 0 1.02-.2 1.41-.59l7.78-7.78 2.81-2.81c.8-.78.8-2.07 0-2.86zM5.41 20L4 18.59l7.72-7.72 1.47 1.35L5.41 20z\"/>\n",
              "  </svg>\n",
              "      </button>\n",
              "      \n",
              "  <style>\n",
              "    .colab-df-container {\n",
              "      display:flex;\n",
              "      flex-wrap:wrap;\n",
              "      gap: 12px;\n",
              "    }\n",
              "\n",
              "    .colab-df-convert {\n",
              "      background-color: #E8F0FE;\n",
              "      border: none;\n",
              "      border-radius: 50%;\n",
              "      cursor: pointer;\n",
              "      display: none;\n",
              "      fill: #1967D2;\n",
              "      height: 32px;\n",
              "      padding: 0 0 0 0;\n",
              "      width: 32px;\n",
              "    }\n",
              "\n",
              "    .colab-df-convert:hover {\n",
              "      background-color: #E2EBFA;\n",
              "      box-shadow: 0px 1px 2px rgba(60, 64, 67, 0.3), 0px 1px 3px 1px rgba(60, 64, 67, 0.15);\n",
              "      fill: #174EA6;\n",
              "    }\n",
              "\n",
              "    [theme=dark] .colab-df-convert {\n",
              "      background-color: #3B4455;\n",
              "      fill: #D2E3FC;\n",
              "    }\n",
              "\n",
              "    [theme=dark] .colab-df-convert:hover {\n",
              "      background-color: #434B5C;\n",
              "      box-shadow: 0px 1px 3px 1px rgba(0, 0, 0, 0.15);\n",
              "      filter: drop-shadow(0px 1px 2px rgba(0, 0, 0, 0.3));\n",
              "      fill: #FFFFFF;\n",
              "    }\n",
              "  </style>\n",
              "\n",
              "      <script>\n",
              "        const buttonEl =\n",
              "          document.querySelector('#df-cc5d885b-40db-43b2-8634-e9839486f3d8 button.colab-df-convert');\n",
              "        buttonEl.style.display =\n",
              "          google.colab.kernel.accessAllowed ? 'block' : 'none';\n",
              "\n",
              "        async function convertToInteractive(key) {\n",
              "          const element = document.querySelector('#df-cc5d885b-40db-43b2-8634-e9839486f3d8');\n",
              "          const dataTable =\n",
              "            await google.colab.kernel.invokeFunction('convertToInteractive',\n",
              "                                                     [key], {});\n",
              "          if (!dataTable) return;\n",
              "\n",
              "          const docLinkHtml = 'Like what you see? Visit the ' +\n",
              "            '<a target=\"_blank\" href=https://colab.research.google.com/notebooks/data_table.ipynb>data table notebook</a>'\n",
              "            + ' to learn more about interactive tables.';\n",
              "          element.innerHTML = '';\n",
              "          dataTable['output_type'] = 'display_data';\n",
              "          await google.colab.output.renderOutput(dataTable, element);\n",
              "          const docLink = document.createElement('div');\n",
              "          docLink.innerHTML = docLinkHtml;\n",
              "          element.appendChild(docLink);\n",
              "        }\n",
              "      </script>\n",
              "    </div>\n",
              "  </div>\n",
              "  "
            ]
          },
          "metadata": {},
          "execution_count": 23
        }
      ],
      "source": [
        "df.head()"
      ]
    },
    {
      "cell_type": "code",
      "execution_count": 24,
      "metadata": {
        "id": "SfzROPC2mPId"
      },
      "outputs": [],
      "source": [
        "def total_words(row):\n",
        "  wa = set(map(lambda word: word.lower().strip(), row[\"question1\"].split(\" \")))\n",
        "  wb = set(map(lambda word: word.lower().strip(),row[\"question2\"].split(\" \")))\n",
        "  return (len(wa) + len(wb))"
      ]
    },
    {
      "cell_type": "code",
      "execution_count": 25,
      "metadata": {
        "id": "2PnqnScvngEt"
      },
      "outputs": [],
      "source": [
        "df[\"total_words\"] = df.apply(total_words,axis =1)"
      ]
    },
    {
      "cell_type": "code",
      "execution_count": 26,
      "metadata": {
        "id": "pbLyRIcmno4g"
      },
      "outputs": [],
      "source": [
        "df[\"%similar words\"] = np.round((df[\"common_words\"]/df[\"total_words\"])*100,2)"
      ]
    },
    {
      "cell_type": "code",
      "execution_count": 27,
      "metadata": {
        "colab": {
          "base_uri": "https://localhost:8080/",
          "height": 354
        },
        "id": "NOYKF5G5n6VI",
        "outputId": "66379b7a-e313-4ae9-f0ac-445e30ca66e7"
      },
      "outputs": [
        {
          "output_type": "execute_result",
          "data": {
            "text/plain": [
              "            id    qid1    qid2  \\\n",
              "398782  398782  496695  532029   \n",
              "115086  115086  187729  187730   \n",
              "327711  327711  454161  454162   \n",
              "367788  367788  498109  491396   \n",
              "151235  151235  237843   50930   \n",
              "\n",
              "                                                question1  \\\n",
              "398782  what is the best marketing automation tool for...   \n",
              "115086   i am poor but i want to invest  what should i do   \n",
              "327711  i am from india and live abroad  i met a guy f...   \n",
              "367788  why do so many people in the u s  hate the sou...   \n",
              "151235                 consequences of bhopal gas tragedy   \n",
              "\n",
              "                                                question2  is_duplicate  \\\n",
              "398782  what is the best marketing automation tool for...             1   \n",
              "115086  i am quite poor and i want to be very rich  wh...             0   \n",
              "327711  t i e t to thapar university to thapar univers...             0   \n",
              "367788  my boyfriend doesnt feel guilty when he hurts ...             0   \n",
              "151235  what was the reason behind the bhopal gas tragedy             0   \n",
              "\n",
              "        q1_len  q2_len  q1_no_of_words  q2_no_of_words  common_words  \\\n",
              "398782      75      76              13              13            12   \n",
              "115086      48      56              13              16             8   \n",
              "327711     104     119              28              21             4   \n",
              "367788      58     145              14              32             1   \n",
              "151235      34      49               5               9             3   \n",
              "\n",
              "        total_words  %similar words  \n",
              "398782           26           46.15  \n",
              "115086           24           33.33  \n",
              "327711           38           10.53  \n",
              "367788           34            2.94  \n",
              "151235           13           23.08  "
            ],
            "text/html": [
              "\n",
              "  <div id=\"df-463c7314-dd19-4a34-aef0-6148d1daa8c1\">\n",
              "    <div class=\"colab-df-container\">\n",
              "      <div>\n",
              "<style scoped>\n",
              "    .dataframe tbody tr th:only-of-type {\n",
              "        vertical-align: middle;\n",
              "    }\n",
              "\n",
              "    .dataframe tbody tr th {\n",
              "        vertical-align: top;\n",
              "    }\n",
              "\n",
              "    .dataframe thead th {\n",
              "        text-align: right;\n",
              "    }\n",
              "</style>\n",
              "<table border=\"1\" class=\"dataframe\">\n",
              "  <thead>\n",
              "    <tr style=\"text-align: right;\">\n",
              "      <th></th>\n",
              "      <th>id</th>\n",
              "      <th>qid1</th>\n",
              "      <th>qid2</th>\n",
              "      <th>question1</th>\n",
              "      <th>question2</th>\n",
              "      <th>is_duplicate</th>\n",
              "      <th>q1_len</th>\n",
              "      <th>q2_len</th>\n",
              "      <th>q1_no_of_words</th>\n",
              "      <th>q2_no_of_words</th>\n",
              "      <th>common_words</th>\n",
              "      <th>total_words</th>\n",
              "      <th>%similar words</th>\n",
              "    </tr>\n",
              "  </thead>\n",
              "  <tbody>\n",
              "    <tr>\n",
              "      <th>398782</th>\n",
              "      <td>398782</td>\n",
              "      <td>496695</td>\n",
              "      <td>532029</td>\n",
              "      <td>what is the best marketing automation tool for...</td>\n",
              "      <td>what is the best marketing automation tool for...</td>\n",
              "      <td>1</td>\n",
              "      <td>75</td>\n",
              "      <td>76</td>\n",
              "      <td>13</td>\n",
              "      <td>13</td>\n",
              "      <td>12</td>\n",
              "      <td>26</td>\n",
              "      <td>46.15</td>\n",
              "    </tr>\n",
              "    <tr>\n",
              "      <th>115086</th>\n",
              "      <td>115086</td>\n",
              "      <td>187729</td>\n",
              "      <td>187730</td>\n",
              "      <td>i am poor but i want to invest  what should i do</td>\n",
              "      <td>i am quite poor and i want to be very rich  wh...</td>\n",
              "      <td>0</td>\n",
              "      <td>48</td>\n",
              "      <td>56</td>\n",
              "      <td>13</td>\n",
              "      <td>16</td>\n",
              "      <td>8</td>\n",
              "      <td>24</td>\n",
              "      <td>33.33</td>\n",
              "    </tr>\n",
              "    <tr>\n",
              "      <th>327711</th>\n",
              "      <td>327711</td>\n",
              "      <td>454161</td>\n",
              "      <td>454162</td>\n",
              "      <td>i am from india and live abroad  i met a guy f...</td>\n",
              "      <td>t i e t to thapar university to thapar univers...</td>\n",
              "      <td>0</td>\n",
              "      <td>104</td>\n",
              "      <td>119</td>\n",
              "      <td>28</td>\n",
              "      <td>21</td>\n",
              "      <td>4</td>\n",
              "      <td>38</td>\n",
              "      <td>10.53</td>\n",
              "    </tr>\n",
              "    <tr>\n",
              "      <th>367788</th>\n",
              "      <td>367788</td>\n",
              "      <td>498109</td>\n",
              "      <td>491396</td>\n",
              "      <td>why do so many people in the u s  hate the sou...</td>\n",
              "      <td>my boyfriend doesnt feel guilty when he hurts ...</td>\n",
              "      <td>0</td>\n",
              "      <td>58</td>\n",
              "      <td>145</td>\n",
              "      <td>14</td>\n",
              "      <td>32</td>\n",
              "      <td>1</td>\n",
              "      <td>34</td>\n",
              "      <td>2.94</td>\n",
              "    </tr>\n",
              "    <tr>\n",
              "      <th>151235</th>\n",
              "      <td>151235</td>\n",
              "      <td>237843</td>\n",
              "      <td>50930</td>\n",
              "      <td>consequences of bhopal gas tragedy</td>\n",
              "      <td>what was the reason behind the bhopal gas tragedy</td>\n",
              "      <td>0</td>\n",
              "      <td>34</td>\n",
              "      <td>49</td>\n",
              "      <td>5</td>\n",
              "      <td>9</td>\n",
              "      <td>3</td>\n",
              "      <td>13</td>\n",
              "      <td>23.08</td>\n",
              "    </tr>\n",
              "  </tbody>\n",
              "</table>\n",
              "</div>\n",
              "      <button class=\"colab-df-convert\" onclick=\"convertToInteractive('df-463c7314-dd19-4a34-aef0-6148d1daa8c1')\"\n",
              "              title=\"Convert this dataframe to an interactive table.\"\n",
              "              style=\"display:none;\">\n",
              "        \n",
              "  <svg xmlns=\"http://www.w3.org/2000/svg\" height=\"24px\"viewBox=\"0 0 24 24\"\n",
              "       width=\"24px\">\n",
              "    <path d=\"M0 0h24v24H0V0z\" fill=\"none\"/>\n",
              "    <path d=\"M18.56 5.44l.94 2.06.94-2.06 2.06-.94-2.06-.94-.94-2.06-.94 2.06-2.06.94zm-11 1L8.5 8.5l.94-2.06 2.06-.94-2.06-.94L8.5 2.5l-.94 2.06-2.06.94zm10 10l.94 2.06.94-2.06 2.06-.94-2.06-.94-.94-2.06-.94 2.06-2.06.94z\"/><path d=\"M17.41 7.96l-1.37-1.37c-.4-.4-.92-.59-1.43-.59-.52 0-1.04.2-1.43.59L10.3 9.45l-7.72 7.72c-.78.78-.78 2.05 0 2.83L4 21.41c.39.39.9.59 1.41.59.51 0 1.02-.2 1.41-.59l7.78-7.78 2.81-2.81c.8-.78.8-2.07 0-2.86zM5.41 20L4 18.59l7.72-7.72 1.47 1.35L5.41 20z\"/>\n",
              "  </svg>\n",
              "      </button>\n",
              "      \n",
              "  <style>\n",
              "    .colab-df-container {\n",
              "      display:flex;\n",
              "      flex-wrap:wrap;\n",
              "      gap: 12px;\n",
              "    }\n",
              "\n",
              "    .colab-df-convert {\n",
              "      background-color: #E8F0FE;\n",
              "      border: none;\n",
              "      border-radius: 50%;\n",
              "      cursor: pointer;\n",
              "      display: none;\n",
              "      fill: #1967D2;\n",
              "      height: 32px;\n",
              "      padding: 0 0 0 0;\n",
              "      width: 32px;\n",
              "    }\n",
              "\n",
              "    .colab-df-convert:hover {\n",
              "      background-color: #E2EBFA;\n",
              "      box-shadow: 0px 1px 2px rgba(60, 64, 67, 0.3), 0px 1px 3px 1px rgba(60, 64, 67, 0.15);\n",
              "      fill: #174EA6;\n",
              "    }\n",
              "\n",
              "    [theme=dark] .colab-df-convert {\n",
              "      background-color: #3B4455;\n",
              "      fill: #D2E3FC;\n",
              "    }\n",
              "\n",
              "    [theme=dark] .colab-df-convert:hover {\n",
              "      background-color: #434B5C;\n",
              "      box-shadow: 0px 1px 3px 1px rgba(0, 0, 0, 0.15);\n",
              "      filter: drop-shadow(0px 1px 2px rgba(0, 0, 0, 0.3));\n",
              "      fill: #FFFFFF;\n",
              "    }\n",
              "  </style>\n",
              "\n",
              "      <script>\n",
              "        const buttonEl =\n",
              "          document.querySelector('#df-463c7314-dd19-4a34-aef0-6148d1daa8c1 button.colab-df-convert');\n",
              "        buttonEl.style.display =\n",
              "          google.colab.kernel.accessAllowed ? 'block' : 'none';\n",
              "\n",
              "        async function convertToInteractive(key) {\n",
              "          const element = document.querySelector('#df-463c7314-dd19-4a34-aef0-6148d1daa8c1');\n",
              "          const dataTable =\n",
              "            await google.colab.kernel.invokeFunction('convertToInteractive',\n",
              "                                                     [key], {});\n",
              "          if (!dataTable) return;\n",
              "\n",
              "          const docLinkHtml = 'Like what you see? Visit the ' +\n",
              "            '<a target=\"_blank\" href=https://colab.research.google.com/notebooks/data_table.ipynb>data table notebook</a>'\n",
              "            + ' to learn more about interactive tables.';\n",
              "          element.innerHTML = '';\n",
              "          dataTable['output_type'] = 'display_data';\n",
              "          await google.colab.output.renderOutput(dataTable, element);\n",
              "          const docLink = document.createElement('div');\n",
              "          docLink.innerHTML = docLinkHtml;\n",
              "          element.appendChild(docLink);\n",
              "        }\n",
              "      </script>\n",
              "    </div>\n",
              "  </div>\n",
              "  "
            ]
          },
          "metadata": {},
          "execution_count": 27
        }
      ],
      "source": [
        "df.head()"
      ]
    },
    {
      "cell_type": "code",
      "execution_count": 28,
      "metadata": {
        "colab": {
          "base_uri": "https://localhost:8080/"
        },
        "id": "dY3XLDpsoWDF",
        "outputId": "a4ef81ca-9e9d-4549-a8c5-8547b3563ab0"
      },
      "outputs": [
        {
          "output_type": "stream",
          "name": "stderr",
          "text": [
            "[nltk_data] Downloading package stopwords to /root/nltk_data...\n",
            "[nltk_data]   Package stopwords is already up-to-date!\n"
          ]
        },
        {
          "output_type": "execute_result",
          "data": {
            "text/plain": [
              "True"
            ]
          },
          "metadata": {},
          "execution_count": 28
        }
      ],
      "source": [
        " nltk.download('stopwords')"
      ]
    },
    {
      "cell_type": "code",
      "execution_count": 29,
      "metadata": {
        "id": "Shw-ep3hvQrX"
      },
      "outputs": [],
      "source": [
        "from nltk.corpus import stopwords"
      ]
    },
    {
      "cell_type": "code",
      "execution_count": 30,
      "metadata": {
        "id": "n0nz8FhZuFOu"
      },
      "outputs": [],
      "source": [
        "def token_features(row):\n",
        "  q1 = row[\"question1\"]\n",
        "  q2 = row[\"question2\"]\n",
        "\n",
        "  #Convert rows into tokens\n",
        "  q1_tokens = q1.split()\n",
        "  q2_tokens = q2.split()\n",
        "\n",
        "  token_features = [0.0]*8\n",
        "\n",
        "  if len(q1_tokens)==0 or len(q2_tokens)==0:\n",
        "    return token_features\n",
        "\n",
        "  # Select the stopwords\n",
        "  stop_words = stopwords.words(\"english\")\n",
        "\n",
        "  # Get the non-stop words in questions:\n",
        "\n",
        "  q1_words = set([word for word in q1_tokens if word not in stop_words])\n",
        "  q2_words = set([word for word in q2_tokens if word not in stop_words])\n",
        "\n",
        "  # Get the Stop words\n",
        "\n",
        "  q1_stopwords = set([word for word in q1_tokens if word in stop_words])\n",
        "  q2_stopwords = set([word for word in q2_tokens if word in stop_words])\n",
        "\n",
        "\n",
        "  # Common non stop words\n",
        "  common_word_count = len(q1_words.intersection(q2_words))\n",
        "\n",
        "  # Common stop words\n",
        "  common_stop_count = len(q1_stopwords.intersection(q2_stopwords))\n",
        "\n",
        "  # Common_tokens\n",
        "  common_tokens = len(set(q1_tokens).intersection(set(q2_tokens)))\n",
        "\n",
        "  SAFE_DIV = 0.0001\n",
        "\n",
        "  token_features[0] = common_word_count / (min(len(q1_words), len(q2_words)) + SAFE_DIV)\n",
        "  token_features[1] = common_word_count / (max(len(q1_words), len(q2_words)) + SAFE_DIV)\n",
        "  token_features[2] = common_stop_count / (min(len(q1_stopwords), len(q2_stopwords)) + SAFE_DIV)\n",
        "  token_features[3] = common_stop_count / (max(len(q1_stopwords), len(q2_stopwords)) + SAFE_DIV)\n",
        "  token_features[4] = common_tokens/ (min(len(q1_tokens), len(q2_tokens)) + SAFE_DIV)\n",
        "  token_features[5] = common_tokens/ (max(len(q1_tokens), len(q2_tokens)) + SAFE_DIV)\n",
        "\n",
        "  # Last words are same or not\n",
        "  token_features[6] = int(q1_tokens[-1]==q2_tokens[-1])\n",
        "\n",
        "  # First words are same or not\n",
        "  token_features[7] = int(q1_tokens[0]==q2_tokens[0])\n",
        "\n",
        "  return token_features\n"
      ]
    },
    {
      "cell_type": "code",
      "execution_count": 31,
      "metadata": {
        "id": "QtRQL_YbxXcs"
      },
      "outputs": [],
      "source": [
        "token_features = df.apply(token_features, axis=1)"
      ]
    },
    {
      "cell_type": "code",
      "execution_count": 32,
      "metadata": {
        "colab": {
          "base_uri": "https://localhost:8080/"
        },
        "id": "4hYU1Mj7-1ct",
        "outputId": "eaa5812a-3844-43b7-db41-fa3e4289cda3"
      },
      "outputs": [
        {
          "output_type": "execute_result",
          "data": {
            "text/plain": [
              "398782    [0.874989062636717, 0.874989062636717, 0.99998...\n",
              "115086    [0.6666444451851604, 0.49998750031249223, 0.71...\n",
              "327711    [0.0, 0.0, 0.4285653062099113, 0.2727247934109...\n",
              "367788                 [0.0, 0.0, 0.0, 0.0, 0.0, 0.0, 0, 0]\n",
              "151235    [0.7499812504687383, 0.5999880002399952, 0.0, ...\n",
              "                                ...                        \n",
              "243932    [0.7499812504687383, 0.7499812504687383, 0.999...\n",
              "91980     [0.5999880002399952, 0.4285653062099113, 0.199...\n",
              "266955    [0.499993750078124, 0.499993750078124, 0.33332...\n",
              "71112     [0.49998750031249223, 0.3999920001599968, 0.59...\n",
              "312470    [0.5999940000599994, 0.49999583336805525, 0.19...\n",
              "Length: 30000, dtype: object"
            ]
          },
          "metadata": {},
          "execution_count": 32
        }
      ],
      "source": [
        "token_features"
      ]
    },
    {
      "cell_type": "code",
      "execution_count": 33,
      "metadata": {
        "id": "Pdm5otX1y55u"
      },
      "outputs": [],
      "source": [
        "df[\"cwc_min\"] = list(map(lambda x: x[0], token_features))\n",
        "df[\"cwc max\"] = list(map(lambda x: x[1], token_features))\n",
        "df[\"csc_min\"] = list(map(lambda x: x[2], token_features))\n",
        "df[\"csc_max\"] = list(map(lambda x: x[3], token_features))\n",
        "df[\"ctc_min\"] = list(map(lambda x: x[4], token_features))\n",
        "df[\"ctc_max\"] = list(map(lambda x: x[5], token_features))\n",
        "df[\"last_word_eq\"] = list(map(lambda x: x[6], token_features))\n",
        "df[\"first_word_eq\"]= list(map(lambda x: x[7], token_features))"
      ]
    },
    {
      "cell_type": "code",
      "execution_count": 34,
      "metadata": {
        "colab": {
          "base_uri": "https://localhost:8080/"
        },
        "id": "1p7twqJfGDLT",
        "outputId": "66ea7df8-a9e5-4bf3-be32-9d42befb471a"
      },
      "outputs": [
        {
          "output_type": "stream",
          "name": "stdout",
          "text": [
            "Looking in indexes: https://pypi.org/simple, https://us-python.pkg.dev/colab-wheels/public/simple/\n",
            "Requirement already satisfied: fuzzywuzzy in /usr/local/lib/python3.10/dist-packages (0.18.0)\n"
          ]
        }
      ],
      "source": [
        "!pip install fuzzywuzzy"
      ]
    },
    {
      "cell_type": "code",
      "execution_count": 35,
      "metadata": {
        "colab": {
          "base_uri": "https://localhost:8080/"
        },
        "id": "kERlxOzBSYEr",
        "outputId": "cfa173b9-2e88-49ea-b23a-9f08dbd714a1"
      },
      "outputs": [
        {
          "output_type": "stream",
          "name": "stdout",
          "text": [
            "Looking in indexes: https://pypi.org/simple, https://us-python.pkg.dev/colab-wheels/public/simple/\n",
            "Requirement already satisfied: distance in /usr/local/lib/python3.10/dist-packages (0.1.3)\n"
          ]
        }
      ],
      "source": [
        "!pip install distance\n"
      ]
    },
    {
      "cell_type": "code",
      "execution_count": 36,
      "metadata": {
        "id": "VKpkOex_zVN1"
      },
      "outputs": [],
      "source": [
        "import distance\n",
        "\n",
        "def fetch_length_features(row):\n",
        "\n",
        "    q1 = row['question1']\n",
        "    q2 = row['question2']\n",
        "\n",
        "    length_features = [0.0]*3\n",
        "\n",
        "    # Converting the Sentence into Tokens:\n",
        "    q1_tokens = q1.split()\n",
        "    q2_tokens = q2.split()\n",
        "\n",
        "    if len(q1_tokens) == 0 or len(q2_tokens) == 0:\n",
        "        return length_features\n",
        "\n",
        "    # Absolute length features\n",
        "    length_features[0] = abs(len(q1_tokens) - len(q2_tokens))\n",
        "\n",
        "    #Average Token Length of both Questions\n",
        "    length_features[1] = (len(q1_tokens) + len(q2_tokens))/2\n",
        "\n",
        "    #strs = list(distance.lcsubstrings(q1, q2))\n",
        "    #length_features[2] = len(strs[0]) / (min(len(q1), len(q2)) + 1)\n",
        "\n",
        "    return length_features"
      ]
    },
    {
      "cell_type": "code",
      "execution_count": 37,
      "metadata": {
        "colab": {
          "base_uri": "https://localhost:8080/"
        },
        "id": "4bBD9QcRcxPf",
        "outputId": "a953f14e-0bd8-428c-9e74-1582171aa05b"
      },
      "outputs": [
        {
          "output_type": "execute_result",
          "data": {
            "text/plain": [
              "(30000, 21)"
            ]
          },
          "metadata": {},
          "execution_count": 37
        }
      ],
      "source": [
        "df.shape"
      ]
    },
    {
      "cell_type": "code",
      "execution_count": 38,
      "metadata": {
        "id": "yWXSSO2W4l-6"
      },
      "outputs": [],
      "source": [
        "length_features = df.apply(fetch_length_features, axis=1)\n",
        "\n",
        "df['abs_len_diff'] = list(map(lambda x: x[0], length_features))\n",
        "df['mean_len'] = list(map(lambda x: x[1], length_features))\n",
        "#df['longest_substr_ratio'] = list(map(lambda x: x[2], length_features))\n"
      ]
    },
    {
      "cell_type": "code",
      "execution_count": 39,
      "metadata": {
        "colab": {
          "base_uri": "https://localhost:8080/",
          "height": 344
        },
        "id": "wgZLDHpo4mIX",
        "outputId": "7e46c443-2359-435e-c11f-aa5478525432"
      },
      "outputs": [
        {
          "output_type": "execute_result",
          "data": {
            "text/plain": [
              "            id    qid1    qid2  \\\n",
              "398782  398782  496695  532029   \n",
              "115086  115086  187729  187730   \n",
              "\n",
              "                                                question1  \\\n",
              "398782  what is the best marketing automation tool for...   \n",
              "115086   i am poor but i want to invest  what should i do   \n",
              "\n",
              "                                                question2  is_duplicate  \\\n",
              "398782  what is the best marketing automation tool for...             1   \n",
              "115086  i am quite poor and i want to be very rich  wh...             0   \n",
              "\n",
              "        q1_len  q2_len  q1_no_of_words  q2_no_of_words  ...   cwc_min  \\\n",
              "398782      75      76              13              13  ...  0.874989   \n",
              "115086      48      56              13              16  ...  0.666644   \n",
              "\n",
              "         cwc max   csc_min   csc_max   ctc_min   ctc_max  last_word_eq  \\\n",
              "398782  0.874989  0.999980  0.999980  0.923070  0.923070           1.0   \n",
              "115086  0.499988  0.714276  0.624992  0.583328  0.466664           1.0   \n",
              "\n",
              "        first_word_eq  abs_len_diff  mean_len  \n",
              "398782            1.0           0.0      13.0  \n",
              "115086            1.0           3.0      13.5  \n",
              "\n",
              "[2 rows x 23 columns]"
            ],
            "text/html": [
              "\n",
              "  <div id=\"df-7f11a821-f43e-4f8a-af32-20a156c46c03\">\n",
              "    <div class=\"colab-df-container\">\n",
              "      <div>\n",
              "<style scoped>\n",
              "    .dataframe tbody tr th:only-of-type {\n",
              "        vertical-align: middle;\n",
              "    }\n",
              "\n",
              "    .dataframe tbody tr th {\n",
              "        vertical-align: top;\n",
              "    }\n",
              "\n",
              "    .dataframe thead th {\n",
              "        text-align: right;\n",
              "    }\n",
              "</style>\n",
              "<table border=\"1\" class=\"dataframe\">\n",
              "  <thead>\n",
              "    <tr style=\"text-align: right;\">\n",
              "      <th></th>\n",
              "      <th>id</th>\n",
              "      <th>qid1</th>\n",
              "      <th>qid2</th>\n",
              "      <th>question1</th>\n",
              "      <th>question2</th>\n",
              "      <th>is_duplicate</th>\n",
              "      <th>q1_len</th>\n",
              "      <th>q2_len</th>\n",
              "      <th>q1_no_of_words</th>\n",
              "      <th>q2_no_of_words</th>\n",
              "      <th>...</th>\n",
              "      <th>cwc_min</th>\n",
              "      <th>cwc max</th>\n",
              "      <th>csc_min</th>\n",
              "      <th>csc_max</th>\n",
              "      <th>ctc_min</th>\n",
              "      <th>ctc_max</th>\n",
              "      <th>last_word_eq</th>\n",
              "      <th>first_word_eq</th>\n",
              "      <th>abs_len_diff</th>\n",
              "      <th>mean_len</th>\n",
              "    </tr>\n",
              "  </thead>\n",
              "  <tbody>\n",
              "    <tr>\n",
              "      <th>398782</th>\n",
              "      <td>398782</td>\n",
              "      <td>496695</td>\n",
              "      <td>532029</td>\n",
              "      <td>what is the best marketing automation tool for...</td>\n",
              "      <td>what is the best marketing automation tool for...</td>\n",
              "      <td>1</td>\n",
              "      <td>75</td>\n",
              "      <td>76</td>\n",
              "      <td>13</td>\n",
              "      <td>13</td>\n",
              "      <td>...</td>\n",
              "      <td>0.874989</td>\n",
              "      <td>0.874989</td>\n",
              "      <td>0.999980</td>\n",
              "      <td>0.999980</td>\n",
              "      <td>0.923070</td>\n",
              "      <td>0.923070</td>\n",
              "      <td>1.0</td>\n",
              "      <td>1.0</td>\n",
              "      <td>0.0</td>\n",
              "      <td>13.0</td>\n",
              "    </tr>\n",
              "    <tr>\n",
              "      <th>115086</th>\n",
              "      <td>115086</td>\n",
              "      <td>187729</td>\n",
              "      <td>187730</td>\n",
              "      <td>i am poor but i want to invest  what should i do</td>\n",
              "      <td>i am quite poor and i want to be very rich  wh...</td>\n",
              "      <td>0</td>\n",
              "      <td>48</td>\n",
              "      <td>56</td>\n",
              "      <td>13</td>\n",
              "      <td>16</td>\n",
              "      <td>...</td>\n",
              "      <td>0.666644</td>\n",
              "      <td>0.499988</td>\n",
              "      <td>0.714276</td>\n",
              "      <td>0.624992</td>\n",
              "      <td>0.583328</td>\n",
              "      <td>0.466664</td>\n",
              "      <td>1.0</td>\n",
              "      <td>1.0</td>\n",
              "      <td>3.0</td>\n",
              "      <td>13.5</td>\n",
              "    </tr>\n",
              "  </tbody>\n",
              "</table>\n",
              "<p>2 rows × 23 columns</p>\n",
              "</div>\n",
              "      <button class=\"colab-df-convert\" onclick=\"convertToInteractive('df-7f11a821-f43e-4f8a-af32-20a156c46c03')\"\n",
              "              title=\"Convert this dataframe to an interactive table.\"\n",
              "              style=\"display:none;\">\n",
              "        \n",
              "  <svg xmlns=\"http://www.w3.org/2000/svg\" height=\"24px\"viewBox=\"0 0 24 24\"\n",
              "       width=\"24px\">\n",
              "    <path d=\"M0 0h24v24H0V0z\" fill=\"none\"/>\n",
              "    <path d=\"M18.56 5.44l.94 2.06.94-2.06 2.06-.94-2.06-.94-.94-2.06-.94 2.06-2.06.94zm-11 1L8.5 8.5l.94-2.06 2.06-.94-2.06-.94L8.5 2.5l-.94 2.06-2.06.94zm10 10l.94 2.06.94-2.06 2.06-.94-2.06-.94-.94-2.06-.94 2.06-2.06.94z\"/><path d=\"M17.41 7.96l-1.37-1.37c-.4-.4-.92-.59-1.43-.59-.52 0-1.04.2-1.43.59L10.3 9.45l-7.72 7.72c-.78.78-.78 2.05 0 2.83L4 21.41c.39.39.9.59 1.41.59.51 0 1.02-.2 1.41-.59l7.78-7.78 2.81-2.81c.8-.78.8-2.07 0-2.86zM5.41 20L4 18.59l7.72-7.72 1.47 1.35L5.41 20z\"/>\n",
              "  </svg>\n",
              "      </button>\n",
              "      \n",
              "  <style>\n",
              "    .colab-df-container {\n",
              "      display:flex;\n",
              "      flex-wrap:wrap;\n",
              "      gap: 12px;\n",
              "    }\n",
              "\n",
              "    .colab-df-convert {\n",
              "      background-color: #E8F0FE;\n",
              "      border: none;\n",
              "      border-radius: 50%;\n",
              "      cursor: pointer;\n",
              "      display: none;\n",
              "      fill: #1967D2;\n",
              "      height: 32px;\n",
              "      padding: 0 0 0 0;\n",
              "      width: 32px;\n",
              "    }\n",
              "\n",
              "    .colab-df-convert:hover {\n",
              "      background-color: #E2EBFA;\n",
              "      box-shadow: 0px 1px 2px rgba(60, 64, 67, 0.3), 0px 1px 3px 1px rgba(60, 64, 67, 0.15);\n",
              "      fill: #174EA6;\n",
              "    }\n",
              "\n",
              "    [theme=dark] .colab-df-convert {\n",
              "      background-color: #3B4455;\n",
              "      fill: #D2E3FC;\n",
              "    }\n",
              "\n",
              "    [theme=dark] .colab-df-convert:hover {\n",
              "      background-color: #434B5C;\n",
              "      box-shadow: 0px 1px 3px 1px rgba(0, 0, 0, 0.15);\n",
              "      filter: drop-shadow(0px 1px 2px rgba(0, 0, 0, 0.3));\n",
              "      fill: #FFFFFF;\n",
              "    }\n",
              "  </style>\n",
              "\n",
              "      <script>\n",
              "        const buttonEl =\n",
              "          document.querySelector('#df-7f11a821-f43e-4f8a-af32-20a156c46c03 button.colab-df-convert');\n",
              "        buttonEl.style.display =\n",
              "          google.colab.kernel.accessAllowed ? 'block' : 'none';\n",
              "\n",
              "        async function convertToInteractive(key) {\n",
              "          const element = document.querySelector('#df-7f11a821-f43e-4f8a-af32-20a156c46c03');\n",
              "          const dataTable =\n",
              "            await google.colab.kernel.invokeFunction('convertToInteractive',\n",
              "                                                     [key], {});\n",
              "          if (!dataTable) return;\n",
              "\n",
              "          const docLinkHtml = 'Like what you see? Visit the ' +\n",
              "            '<a target=\"_blank\" href=https://colab.research.google.com/notebooks/data_table.ipynb>data table notebook</a>'\n",
              "            + ' to learn more about interactive tables.';\n",
              "          element.innerHTML = '';\n",
              "          dataTable['output_type'] = 'display_data';\n",
              "          await google.colab.output.renderOutput(dataTable, element);\n",
              "          const docLink = document.createElement('div');\n",
              "          docLink.innerHTML = docLinkHtml;\n",
              "          element.appendChild(docLink);\n",
              "        }\n",
              "      </script>\n",
              "    </div>\n",
              "  </div>\n",
              "  "
            ]
          },
          "metadata": {},
          "execution_count": 39
        }
      ],
      "source": [
        "df.head(2)"
      ]
    },
    {
      "cell_type": "code",
      "execution_count": 40,
      "metadata": {
        "id": "_dGEjsEX4mLG"
      },
      "outputs": [],
      "source": [
        "# Fuzzy Features\n",
        "from fuzzywuzzy import fuzz\n",
        "\n",
        "def fetch_fuzzy_features(row):\n",
        "\n",
        "    q1 = row['question1']\n",
        "    q2 = row['question2']\n",
        "\n",
        "    fuzzy_features = [0.0]*4\n",
        "\n",
        "    # fuzz_ratio\n",
        "    fuzzy_features[0] = fuzz.QRatio(q1, q2)\n",
        "\n",
        "    # fuzz_partial_ratio\n",
        "    fuzzy_features[1] = fuzz.partial_ratio(q1, q2)\n",
        "\n",
        "    # token_sort_ratio\n",
        "    fuzzy_features[2] = fuzz.token_sort_ratio(q1, q2)\n",
        "\n",
        "    # token_set_ratio\n",
        "    fuzzy_features[3] = fuzz.token_set_ratio(q1, q2)\n",
        "\n",
        "    return fuzzy_features"
      ]
    },
    {
      "cell_type": "code",
      "execution_count": 41,
      "metadata": {
        "id": "XKG-Cs5Y4mNR"
      },
      "outputs": [],
      "source": [
        "fuzzy_features = df.apply(fetch_fuzzy_features, axis=1)\n",
        "\n",
        "# Creating new feature columns for fuzzy features\n",
        "df['fuzz_ratio'] = list(map(lambda x: x[0], fuzzy_features))\n",
        "df['fuzz_partial_ratio'] = list(map(lambda x: x[1], fuzzy_features))\n",
        "df['token_sort_ratio'] = list(map(lambda x: x[2], fuzzy_features))\n",
        "df['token_set_ratio'] = list(map(lambda x: x[3], fuzzy_features))"
      ]
    },
    {
      "cell_type": "code",
      "execution_count": 42,
      "metadata": {
        "colab": {
          "base_uri": "https://localhost:8080/"
        },
        "id": "6_Vuxo4ZS4Cs",
        "outputId": "0016bc0d-dc76-44c3-8e61-8ef25cac51cc"
      },
      "outputs": [
        {
          "output_type": "execute_result",
          "data": {
            "text/plain": [
              "Index(['id', 'qid1', 'qid2', 'question1', 'question2', 'is_duplicate',\n",
              "       'q1_len', 'q2_len', 'q1_no_of_words', 'q2_no_of_words', 'common_words',\n",
              "       'total_words', '%similar words', 'cwc_min', 'cwc max', 'csc_min',\n",
              "       'csc_max', 'ctc_min', 'ctc_max', 'last_word_eq', 'first_word_eq',\n",
              "       'abs_len_diff', 'mean_len', 'fuzz_ratio', 'fuzz_partial_ratio',\n",
              "       'token_sort_ratio', 'token_set_ratio'],\n",
              "      dtype='object')"
            ]
          },
          "metadata": {},
          "execution_count": 42
        }
      ],
      "source": [
        "df.columns"
      ]
    },
    {
      "cell_type": "code",
      "execution_count": 43,
      "metadata": {
        "colab": {
          "base_uri": "https://localhost:8080/",
          "height": 775
        },
        "id": "F6ZzTlXfSkBP",
        "outputId": "d284784a-dbae-40dd-894a-988dc0c376fd"
      },
      "outputs": [
        {
          "output_type": "execute_result",
          "data": {
            "text/plain": [
              "<seaborn.axisgrid.PairGrid at 0x7f1b9787d450>"
            ]
          },
          "metadata": {},
          "execution_count": 43
        },
        {
          "output_type": "display_data",
          "data": {
            "text/plain": [
              "<Figure size 843.611x750 with 12 Axes>"
            ],
            "image/png": "[encoded data removed]"
          },
          "metadata": {}
        }
      ],
      "source": [
        "sns.pairplot(df[['ctc_min', 'cwc_min', 'csc_min', 'is_duplicate']],hue='is_duplicate')"
      ]
    },
    {
      "cell_type": "code",
      "execution_count": 44,
      "metadata": {
        "id": "desasWIMSkED"
      },
      "outputs": [],
      "source": [
        "#sns.pairplot(df[['ctc_max', 'cwc max', 'csc_max', 'is_duplicate']],hue='is_duplicate')"
      ]
    },
    {
      "cell_type": "code",
      "execution_count": 45,
      "metadata": {
        "id": "Z0KwXLgeSkGw"
      },
      "outputs": [],
      "source": [
        "#sns.pairplot(df[['fuzz_ratio', 'fuzz_partial_ratio','token_sort_ratio','token_set_ratio', 'is_duplicate']],hue='is_duplicate')"
      ]
    },
    {
      "cell_type": "code",
      "execution_count": 46,
      "metadata": {
        "id": "LPoSClykSkIr"
      },
      "outputs": [],
      "source": [
        "\n",
        "from sklearn.preprocessing import MinMaxScaler\n",
        "\n",
        "X = MinMaxScaler().fit_transform(df[['cwc_min', 'cwc max', 'csc_min', 'csc_max' , 'ctc_min' , 'ctc_max' , 'last_word_eq', 'first_word_eq' , 'abs_len_diff' , 'mean_len' , 'token_set_ratio' , 'token_sort_ratio' ,  'fuzz_ratio' , 'fuzz_partial_ratio' ]])\n",
        "y = df['is_duplicate'].values\n"
      ]
    },
    {
      "cell_type": "code",
      "execution_count": 47,
      "metadata": {
        "id": "XVqBbKTWSkLO"
      },
      "outputs": [],
      "source": [
        "# from sklearn.manifold import TSNE\n",
        "\n",
        "# tsne2d = TSNE(\n",
        "#     n_components=2,\n",
        "#     init='random', # pca\n",
        "#     random_state=101,\n",
        "#     method='barnes_hut',\n",
        "#     n_iter=1000,\n",
        "#     verbose=2,\n",
        "#     angle=0.5\n",
        "# ).fit_transform(X)"
      ]
    },
    {
      "cell_type": "code",
      "execution_count": 48,
      "metadata": {
        "id": "R1U9RKsDSkPg"
      },
      "outputs": [],
      "source": [
        "# tsne3d = TSNE(\n",
        "#     n_components=3,\n",
        "#     init='random', # pca\n",
        "#     random_state=101,\n",
        "#     method='barnes_hut',\n",
        "#     n_iter=1000,\n",
        "#     verbose=2,\n",
        "#     angle=0.5\n",
        "# ).fit_transform(X)"
      ]
    },
    {
      "cell_type": "code",
      "execution_count": 49,
      "metadata": {
        "id": "LCWtqUgpSkRi"
      },
      "outputs": [],
      "source": [
        "# tsne3d = TSNE(\n",
        "#     n_components=3,\n",
        "#     init='random', # pca\n",
        "#     random_state=101,\n",
        "#     method='barnes_hut',\n",
        "#     n_iter=1000,\n",
        "#     verbose=2,\n",
        "#     angle=0.5\n",
        "# ).fit_transform(X)"
      ]
    },
    {
      "cell_type": "code",
      "execution_count": 50,
      "metadata": {
        "id": "_3JSjAULYDeA"
      },
      "outputs": [],
      "source": [
        "# import plotly.graph_objs as go\n",
        "# import plotly.tools as tls\n",
        "# import plotly.offline as py\n",
        "# py.init_notebook_mode(connected=True)\n",
        "\n",
        "# trace1 = go.Scatter3d(\n",
        "#     x=tsne3d[:,0],\n",
        "#     y=tsne3d[:,1],\n",
        "#     z=tsne3d[:,2],\n",
        "#     mode='markers',\n",
        "#     marker=dict(\n",
        "#         sizemode='diameter',\n",
        "#         color = y,\n",
        "#         colorscale = 'Portland',\n",
        "#         colorbar = dict(title = 'duplicate'),\n",
        "#         line=dict(color='rgb(255, 255, 255)'),\n",
        "#         opacity=0.75\n",
        "#     )\n",
        "# )\n",
        "\n",
        "# data=[trace1]\n",
        "# layout=dict(height=800, width=800, title='3d embedding with engineered features')\n",
        "# fig=dict(data=data, layout=layout)\n",
        "# py.iplot(fig, filename='3DBubble')"
      ]
    },
    {
      "cell_type": "code",
      "execution_count": 51,
      "metadata": {
        "id": "WFJnsyVOYDg1",
        "colab": {
          "base_uri": "https://localhost:8080/",
          "height": 206
        },
        "outputId": "9fcf7304-2759-437a-aef4-1a280be1d7bb"
      },
      "outputs": [
        {
          "output_type": "execute_result",
          "data": {
            "text/plain": [
              "                                                question1  \\\n",
              "398782  what is the best marketing automation tool for...   \n",
              "115086   i am poor but i want to invest  what should i do   \n",
              "327711  i am from india and live abroad  i met a guy f...   \n",
              "367788  why do so many people in the u s  hate the sou...   \n",
              "151235                 consequences of bhopal gas tragedy   \n",
              "\n",
              "                                                question2  \n",
              "398782  what is the best marketing automation tool for...  \n",
              "115086  i am quite poor and i want to be very rich  wh...  \n",
              "327711  t i e t to thapar university to thapar univers...  \n",
              "367788  my boyfriend doesnt feel guilty when he hurts ...  \n",
              "151235  what was the reason behind the bhopal gas tragedy  "
            ],
            "text/html": [
              "\n",
              "  <div id=\"df-324efd69-ac05-47e5-8d83-7b70f1716008\">\n",
              "    <div class=\"colab-df-container\">\n",
              "      <div>\n",
              "<style scoped>\n",
              "    .dataframe tbody tr th:only-of-type {\n",
              "        vertical-align: middle;\n",
              "    }\n",
              "\n",
              "    .dataframe tbody tr th {\n",
              "        vertical-align: top;\n",
              "    }\n",
              "\n",
              "    .dataframe thead th {\n",
              "        text-align: right;\n",
              "    }\n",
              "</style>\n",
              "<table border=\"1\" class=\"dataframe\">\n",
              "  <thead>\n",
              "    <tr style=\"text-align: right;\">\n",
              "      <th></th>\n",
              "      <th>question1</th>\n",
              "      <th>question2</th>\n",
              "    </tr>\n",
              "  </thead>\n",
              "  <tbody>\n",
              "    <tr>\n",
              "      <th>398782</th>\n",
              "      <td>what is the best marketing automation tool for...</td>\n",
              "      <td>what is the best marketing automation tool for...</td>\n",
              "    </tr>\n",
              "    <tr>\n",
              "      <th>115086</th>\n",
              "      <td>i am poor but i want to invest  what should i do</td>\n",
              "      <td>i am quite poor and i want to be very rich  wh...</td>\n",
              "    </tr>\n",
              "    <tr>\n",
              "      <th>327711</th>\n",
              "      <td>i am from india and live abroad  i met a guy f...</td>\n",
              "      <td>t i e t to thapar university to thapar univers...</td>\n",
              "    </tr>\n",
              "    <tr>\n",
              "      <th>367788</th>\n",
              "      <td>why do so many people in the u s  hate the sou...</td>\n",
              "      <td>my boyfriend doesnt feel guilty when he hurts ...</td>\n",
              "    </tr>\n",
              "    <tr>\n",
              "      <th>151235</th>\n",
              "      <td>consequences of bhopal gas tragedy</td>\n",
              "      <td>what was the reason behind the bhopal gas tragedy</td>\n",
              "    </tr>\n",
              "  </tbody>\n",
              "</table>\n",
              "</div>\n",
              "      <button class=\"colab-df-convert\" onclick=\"convertToInteractive('df-324efd69-ac05-47e5-8d83-7b70f1716008')\"\n",
              "              title=\"Convert this dataframe to an interactive table.\"\n",
              "              style=\"display:none;\">\n",
              "        \n",
              "  <svg xmlns=\"http://www.w3.org/2000/svg\" height=\"24px\"viewBox=\"0 0 24 24\"\n",
              "       width=\"24px\">\n",
              "    <path d=\"M0 0h24v24H0V0z\" fill=\"none\"/>\n",
              "    <path d=\"M18.56 5.44l.94 2.06.94-2.06 2.06-.94-2.06-.94-.94-2.06-.94 2.06-2.06.94zm-11 1L8.5 8.5l.94-2.06 2.06-.94-2.06-.94L8.5 2.5l-.94 2.06-2.06.94zm10 10l.94 2.06.94-2.06 2.06-.94-2.06-.94-.94-2.06-.94 2.06-2.06.94z\"/><path d=\"M17.41 7.96l-1.37-1.37c-.4-.4-.92-.59-1.43-.59-.52 0-1.04.2-1.43.59L10.3 9.45l-7.72 7.72c-.78.78-.78 2.05 0 2.83L4 21.41c.39.39.9.59 1.41.59.51 0 1.02-.2 1.41-.59l7.78-7.78 2.81-2.81c.8-.78.8-2.07 0-2.86zM5.41 20L4 18.59l7.72-7.72 1.47 1.35L5.41 20z\"/>\n",
              "  </svg>\n",
              "      </button>\n",
              "      \n",
              "  <style>\n",
              "    .colab-df-container {\n",
              "      display:flex;\n",
              "      flex-wrap:wrap;\n",
              "      gap: 12px;\n",
              "    }\n",
              "\n",
              "    .colab-df-convert {\n",
              "      background-color: #E8F0FE;\n",
              "      border: none;\n",
              "      border-radius: 50%;\n",
              "      cursor: pointer;\n",
              "      display: none;\n",
              "      fill: #1967D2;\n",
              "      height: 32px;\n",
              "      padding: 0 0 0 0;\n",
              "      width: 32px;\n",
              "    }\n",
              "\n",
              "    .colab-df-convert:hover {\n",
              "      background-color: #E2EBFA;\n",
              "      box-shadow: 0px 1px 2px rgba(60, 64, 67, 0.3), 0px 1px 3px 1px rgba(60, 64, 67, 0.15);\n",
              "      fill: #174EA6;\n",
              "    }\n",
              "\n",
              "    [theme=dark] .colab-df-convert {\n",
              "      background-color: #3B4455;\n",
              "      fill: #D2E3FC;\n",
              "    }\n",
              "\n",
              "    [theme=dark] .colab-df-convert:hover {\n",
              "      background-color: #434B5C;\n",
              "      box-shadow: 0px 1px 3px 1px rgba(0, 0, 0, 0.15);\n",
              "      filter: drop-shadow(0px 1px 2px rgba(0, 0, 0, 0.3));\n",
              "      fill: #FFFFFF;\n",
              "    }\n",
              "  </style>\n",
              "\n",
              "      <script>\n",
              "        const buttonEl =\n",
              "          document.querySelector('#df-324efd69-ac05-47e5-8d83-7b70f1716008 button.colab-df-convert');\n",
              "        buttonEl.style.display =\n",
              "          google.colab.kernel.accessAllowed ? 'block' : 'none';\n",
              "\n",
              "        async function convertToInteractive(key) {\n",
              "          const element = document.querySelector('#df-324efd69-ac05-47e5-8d83-7b70f1716008');\n",
              "          const dataTable =\n",
              "            await google.colab.kernel.invokeFunction('convertToInteractive',\n",
              "                                                     [key], {});\n",
              "          if (!dataTable) return;\n",
              "\n",
              "          const docLinkHtml = 'Like what you see? Visit the ' +\n",
              "            '<a target=\"_blank\" href=https://colab.research.google.com/notebooks/data_table.ipynb>data table notebook</a>'\n",
              "            + ' to learn more about interactive tables.';\n",
              "          element.innerHTML = '';\n",
              "          dataTable['output_type'] = 'display_data';\n",
              "          await google.colab.output.renderOutput(dataTable, element);\n",
              "          const docLink = document.createElement('div');\n",
              "          docLink.innerHTML = docLinkHtml;\n",
              "          element.appendChild(docLink);\n",
              "        }\n",
              "      </script>\n",
              "    </div>\n",
              "  </div>\n",
              "  "
            ]
          },
          "metadata": {},
          "execution_count": 51
        }
      ],
      "source": [
        "ques_df = df[['question1','question2']]\n",
        "ques_df.head()"
      ]
    },
    {
      "cell_type": "code",
      "execution_count": 52,
      "metadata": {
        "id": "hccicsboYDjO",
        "colab": {
          "base_uri": "https://localhost:8080/",
          "height": 334
        },
        "outputId": "3c5b06a7-b294-492e-a233-727a550bcfb8"
      },
      "outputs": [
        {
          "output_type": "stream",
          "name": "stdout",
          "text": [
            "(30000, 22)\n"
          ]
        },
        {
          "output_type": "execute_result",
          "data": {
            "text/plain": [
              "        is_duplicate  q1_len  q2_len  q1_no_of_words  q2_no_of_words  \\\n",
              "398782             1      75      76              13              13   \n",
              "115086             0      48      56              13              16   \n",
              "327711             0     104     119              28              21   \n",
              "367788             0      58     145              14              32   \n",
              "151235             0      34      49               5               9   \n",
              "\n",
              "        common_words  total_words  %similar words   cwc_min   cwc max  ...  \\\n",
              "398782            12           26           46.15  0.874989  0.874989  ...   \n",
              "115086             8           24           33.33  0.666644  0.499988  ...   \n",
              "327711             4           38           10.53  0.000000  0.000000  ...   \n",
              "367788             1           34            2.94  0.000000  0.000000  ...   \n",
              "151235             3           13           23.08  0.749981  0.599988  ...   \n",
              "\n",
              "         ctc_min   ctc_max  last_word_eq  first_word_eq  abs_len_diff  \\\n",
              "398782  0.923070  0.923070           1.0            1.0           0.0   \n",
              "115086  0.583328  0.466664           1.0            1.0           3.0   \n",
              "327711  0.149999  0.115384           0.0            0.0           6.0   \n",
              "367788  0.000000  0.000000           0.0            0.0          17.0   \n",
              "151235  0.599988  0.333330           1.0            0.0           4.0   \n",
              "\n",
              "        mean_len  fuzz_ratio  fuzz_partial_ratio  token_sort_ratio  \\\n",
              "398782      13.0          99                  99                99   \n",
              "115086      13.5          69                  67                65   \n",
              "327711      23.0          26                  29                34   \n",
              "367788      21.5          29                  41                23   \n",
              "151235       7.0          55                  70                48   \n",
              "\n",
              "        token_set_ratio  \n",
              "398782               99  \n",
              "115086               74  \n",
              "327711               43  \n",
              "367788               30  \n",
              "151235               69  \n",
              "\n",
              "[5 rows x 22 columns]"
            ],
            "text/html": [
              "\n",
              "  <div id=\"df-60c1ef68-9bc5-4f1b-8f06-3852e1e231be\">\n",
              "    <div class=\"colab-df-container\">\n",
              "      <div>\n",
              "<style scoped>\n",
              "    .dataframe tbody tr th:only-of-type {\n",
              "        vertical-align: middle;\n",
              "    }\n",
              "\n",
              "    .dataframe tbody tr th {\n",
              "        vertical-align: top;\n",
              "    }\n",
              "\n",
              "    .dataframe thead th {\n",
              "        text-align: right;\n",
              "    }\n",
              "</style>\n",
              "<table border=\"1\" class=\"dataframe\">\n",
              "  <thead>\n",
              "    <tr style=\"text-align: right;\">\n",
              "      <th></th>\n",
              "      <th>is_duplicate</th>\n",
              "      <th>q1_len</th>\n",
              "      <th>q2_len</th>\n",
              "      <th>q1_no_of_words</th>\n",
              "      <th>q2_no_of_words</th>\n",
              "      <th>common_words</th>\n",
              "      <th>total_words</th>\n",
              "      <th>%similar words</th>\n",
              "      <th>cwc_min</th>\n",
              "      <th>cwc max</th>\n",
              "      <th>...</th>\n",
              "      <th>ctc_min</th>\n",
              "      <th>ctc_max</th>\n",
              "      <th>last_word_eq</th>\n",
              "      <th>first_word_eq</th>\n",
              "      <th>abs_len_diff</th>\n",
              "      <th>mean_len</th>\n",
              "      <th>fuzz_ratio</th>\n",
              "      <th>fuzz_partial_ratio</th>\n",
              "      <th>token_sort_ratio</th>\n",
              "      <th>token_set_ratio</th>\n",
              "    </tr>\n",
              "  </thead>\n",
              "  <tbody>\n",
              "    <tr>\n",
              "      <th>398782</th>\n",
              "      <td>1</td>\n",
              "      <td>75</td>\n",
              "      <td>76</td>\n",
              "      <td>13</td>\n",
              "      <td>13</td>\n",
              "      <td>12</td>\n",
              "      <td>26</td>\n",
              "      <td>46.15</td>\n",
              "      <td>0.874989</td>\n",
              "      <td>0.874989</td>\n",
              "      <td>...</td>\n",
              "      <td>0.923070</td>\n",
              "      <td>0.923070</td>\n",
              "      <td>1.0</td>\n",
              "      <td>1.0</td>\n",
              "      <td>0.0</td>\n",
              "      <td>13.0</td>\n",
              "      <td>99</td>\n",
              "      <td>99</td>\n",
              "      <td>99</td>\n",
              "      <td>99</td>\n",
              "    </tr>\n",
              "    <tr>\n",
              "      <th>115086</th>\n",
              "      <td>0</td>\n",
              "      <td>48</td>\n",
              "      <td>56</td>\n",
              "      <td>13</td>\n",
              "      <td>16</td>\n",
              "      <td>8</td>\n",
              "      <td>24</td>\n",
              "      <td>33.33</td>\n",
              "      <td>0.666644</td>\n",
              "      <td>0.499988</td>\n",
              "      <td>...</td>\n",
              "      <td>0.583328</td>\n",
              "      <td>0.466664</td>\n",
              "      <td>1.0</td>\n",
              "      <td>1.0</td>\n",
              "      <td>3.0</td>\n",
              "      <td>13.5</td>\n",
              "      <td>69</td>\n",
              "      <td>67</td>\n",
              "      <td>65</td>\n",
              "      <td>74</td>\n",
              "    </tr>\n",
              "    <tr>\n",
              "      <th>327711</th>\n",
              "      <td>0</td>\n",
              "      <td>104</td>\n",
              "      <td>119</td>\n",
              "      <td>28</td>\n",
              "      <td>21</td>\n",
              "      <td>4</td>\n",
              "      <td>38</td>\n",
              "      <td>10.53</td>\n",
              "      <td>0.000000</td>\n",
              "      <td>0.000000</td>\n",
              "      <td>...</td>\n",
              "      <td>0.149999</td>\n",
              "      <td>0.115384</td>\n",
              "      <td>0.0</td>\n",
              "      <td>0.0</td>\n",
              "      <td>6.0</td>\n",
              "      <td>23.0</td>\n",
              "      <td>26</td>\n",
              "      <td>29</td>\n",
              "      <td>34</td>\n",
              "      <td>43</td>\n",
              "    </tr>\n",
              "    <tr>\n",
              "      <th>367788</th>\n",
              "      <td>0</td>\n",
              "      <td>58</td>\n",
              "      <td>145</td>\n",
              "      <td>14</td>\n",
              "      <td>32</td>\n",
              "      <td>1</td>\n",
              "      <td>34</td>\n",
              "      <td>2.94</td>\n",
              "      <td>0.000000</td>\n",
              "      <td>0.000000</td>\n",
              "      <td>...</td>\n",
              "      <td>0.000000</td>\n",
              "      <td>0.000000</td>\n",
              "      <td>0.0</td>\n",
              "      <td>0.0</td>\n",
              "      <td>17.0</td>\n",
              "      <td>21.5</td>\n",
              "      <td>29</td>\n",
              "      <td>41</td>\n",
              "      <td>23</td>\n",
              "      <td>30</td>\n",
              "    </tr>\n",
              "    <tr>\n",
              "      <th>151235</th>\n",
              "      <td>0</td>\n",
              "      <td>34</td>\n",
              "      <td>49</td>\n",
              "      <td>5</td>\n",
              "      <td>9</td>\n",
              "      <td>3</td>\n",
              "      <td>13</td>\n",
              "      <td>23.08</td>\n",
              "      <td>0.749981</td>\n",
              "      <td>0.599988</td>\n",
              "      <td>...</td>\n",
              "      <td>0.599988</td>\n",
              "      <td>0.333330</td>\n",
              "      <td>1.0</td>\n",
              "      <td>0.0</td>\n",
              "      <td>4.0</td>\n",
              "      <td>7.0</td>\n",
              "      <td>55</td>\n",
              "      <td>70</td>\n",
              "      <td>48</td>\n",
              "      <td>69</td>\n",
              "    </tr>\n",
              "  </tbody>\n",
              "</table>\n",
              "<p>5 rows × 22 columns</p>\n",
              "</div>\n",
              "      <button class=\"colab-df-convert\" onclick=\"convertToInteractive('df-60c1ef68-9bc5-4f1b-8f06-3852e1e231be')\"\n",
              "              title=\"Convert this dataframe to an interactive table.\"\n",
              "              style=\"display:none;\">\n",
              "        \n",
              "  <svg xmlns=\"http://www.w3.org/2000/svg\" height=\"24px\"viewBox=\"0 0 24 24\"\n",
              "       width=\"24px\">\n",
              "    <path d=\"M0 0h24v24H0V0z\" fill=\"none\"/>\n",
              "    <path d=\"M18.56 5.44l.94 2.06.94-2.06 2.06-.94-2.06-.94-.94-2.06-.94 2.06-2.06.94zm-11 1L8.5 8.5l.94-2.06 2.06-.94-2.06-.94L8.5 2.5l-.94 2.06-2.06.94zm10 10l.94 2.06.94-2.06 2.06-.94-2.06-.94-.94-2.06-.94 2.06-2.06.94z\"/><path d=\"M17.41 7.96l-1.37-1.37c-.4-.4-.92-.59-1.43-.59-.52 0-1.04.2-1.43.59L10.3 9.45l-7.72 7.72c-.78.78-.78 2.05 0 2.83L4 21.41c.39.39.9.59 1.41.59.51 0 1.02-.2 1.41-.59l7.78-7.78 2.81-2.81c.8-.78.8-2.07 0-2.86zM5.41 20L4 18.59l7.72-7.72 1.47 1.35L5.41 20z\"/>\n",
              "  </svg>\n",
              "      </button>\n",
              "      \n",
              "  <style>\n",
              "    .colab-df-container {\n",
              "      display:flex;\n",
              "      flex-wrap:wrap;\n",
              "      gap: 12px;\n",
              "    }\n",
              "\n",
              "    .colab-df-convert {\n",
              "      background-color: #E8F0FE;\n",
              "      border: none;\n",
              "      border-radius: 50%;\n",
              "      cursor: pointer;\n",
              "      display: none;\n",
              "      fill: #1967D2;\n",
              "      height: 32px;\n",
              "      padding: 0 0 0 0;\n",
              "      width: 32px;\n",
              "    }\n",
              "\n",
              "    .colab-df-convert:hover {\n",
              "      background-color: #E2EBFA;\n",
              "      box-shadow: 0px 1px 2px rgba(60, 64, 67, 0.3), 0px 1px 3px 1px rgba(60, 64, 67, 0.15);\n",
              "      fill: #174EA6;\n",
              "    }\n",
              "\n",
              "    [theme=dark] .colab-df-convert {\n",
              "      background-color: #3B4455;\n",
              "      fill: #D2E3FC;\n",
              "    }\n",
              "\n",
              "    [theme=dark] .colab-df-convert:hover {\n",
              "      background-color: #434B5C;\n",
              "      box-shadow: 0px 1px 3px 1px rgba(0, 0, 0, 0.15);\n",
              "      filter: drop-shadow(0px 1px 2px rgba(0, 0, 0, 0.3));\n",
              "      fill: #FFFFFF;\n",
              "    }\n",
              "  </style>\n",
              "\n",
              "      <script>\n",
              "        const buttonEl =\n",
              "          document.querySelector('#df-60c1ef68-9bc5-4f1b-8f06-3852e1e231be button.colab-df-convert');\n",
              "        buttonEl.style.display =\n",
              "          google.colab.kernel.accessAllowed ? 'block' : 'none';\n",
              "\n",
              "        async function convertToInteractive(key) {\n",
              "          const element = document.querySelector('#df-60c1ef68-9bc5-4f1b-8f06-3852e1e231be');\n",
              "          const dataTable =\n",
              "            await google.colab.kernel.invokeFunction('convertToInteractive',\n",
              "                                                     [key], {});\n",
              "          if (!dataTable) return;\n",
              "\n",
              "          const docLinkHtml = 'Like what you see? Visit the ' +\n",
              "            '<a target=\"_blank\" href=https://colab.research.google.com/notebooks/data_table.ipynb>data table notebook</a>'\n",
              "            + ' to learn more about interactive tables.';\n",
              "          element.innerHTML = '';\n",
              "          dataTable['output_type'] = 'display_data';\n",
              "          await google.colab.output.renderOutput(dataTable, element);\n",
              "          const docLink = document.createElement('div');\n",
              "          docLink.innerHTML = docLinkHtml;\n",
              "          element.appendChild(docLink);\n",
              "        }\n",
              "      </script>\n",
              "    </div>\n",
              "  </div>\n",
              "  "
            ]
          },
          "metadata": {},
          "execution_count": 52
        }
      ],
      "source": [
        "final_df = df.drop(columns=['id','qid1','qid2','question1','question2'])\n",
        "print(final_df.shape)\n",
        "final_df.head()"
      ]
    },
    {
      "cell_type": "code",
      "execution_count": 53,
      "metadata": {
        "id": "-R4HfeTtY3Wg"
      },
      "outputs": [],
      "source": [
        "from sklearn.feature_extraction.text import CountVectorizer\n",
        "# merge texts\n",
        "questions = list(ques_df['question1']) + list(ques_df['question2'])\n",
        "\n",
        "cv = CountVectorizer(max_features=3000)\n",
        "q1_arr, q2_arr = np.vsplit(cv.fit_transform(questions).toarray(),2)"
      ]
    },
    {
      "cell_type": "code",
      "execution_count": 54,
      "metadata": {
        "id": "0zME7Ko8Y9XY",
        "colab": {
          "base_uri": "https://localhost:8080/"
        },
        "outputId": "cccd9632-2348-4605-c79d-5946a1e9b802"
      },
      "outputs": [
        {
          "output_type": "execute_result",
          "data": {
            "text/plain": [
              "(30000, 6000)"
            ]
          },
          "metadata": {},
          "execution_count": 54
        }
      ],
      "source": [
        "temp_df1 = pd.DataFrame(q1_arr, index= ques_df.index)\n",
        "temp_df2 = pd.DataFrame(q2_arr, index= ques_df.index)\n",
        "temp_df = pd.concat([temp_df1, temp_df2], axis=1)\n",
        "temp_df.shape"
      ]
    },
    {
      "cell_type": "code",
      "execution_count": 55,
      "metadata": {
        "id": "lWG7INyYZBrK",
        "colab": {
          "base_uri": "https://localhost:8080/",
          "height": 297
        },
        "outputId": "1b58c2bf-f6f6-4a62-c02c-4ab4c66c46b4"
      },
      "outputs": [
        {
          "output_type": "stream",
          "name": "stdout",
          "text": [
            "(30000, 6022)\n"
          ]
        },
        {
          "output_type": "execute_result",
          "data": {
            "text/plain": [
              "        is_duplicate  q1_len  q2_len  q1_no_of_words  q2_no_of_words  \\\n",
              "398782             1      75      76              13              13   \n",
              "115086             0      48      56              13              16   \n",
              "327711             0     104     119              28              21   \n",
              "367788             0      58     145              14              32   \n",
              "151235             0      34      49               5               9   \n",
              "\n",
              "        common_words  total_words  %similar words   cwc_min   cwc max  ...  \\\n",
              "398782            12           26           46.15  0.874989  0.874989  ...   \n",
              "115086             8           24           33.33  0.666644  0.499988  ...   \n",
              "327711             4           38           10.53  0.000000  0.000000  ...   \n",
              "367788             1           34            2.94  0.000000  0.000000  ...   \n",
              "151235             3           13           23.08  0.749981  0.599988  ...   \n",
              "\n",
              "        2990  2991  2992  2993  2994  2995  2996  2997  2998  2999  \n",
              "398782     0     0     0     0     0     0     0     0     0     0  \n",
              "115086     0     0     0     0     0     0     0     0     0     0  \n",
              "327711     0     0     0     0     0     0     0     0     0     0  \n",
              "367788     0     0     0     1     0     0     0     0     0     0  \n",
              "151235     0     0     0     0     0     0     0     0     0     0  \n",
              "\n",
              "[5 rows x 6022 columns]"
            ],
            "text/html": [
              "\n",
              "  <div id=\"df-4589039c-e62f-40db-83cd-c58749e44532\">\n",
              "    <div class=\"colab-df-container\">\n",
              "      <div>\n",
              "<style scoped>\n",
              "    .dataframe tbody tr th:only-of-type {\n",
              "        vertical-align: middle;\n",
              "    }\n",
              "\n",
              "    .dataframe tbody tr th {\n",
              "        vertical-align: top;\n",
              "    }\n",
              "\n",
              "    .dataframe thead th {\n",
              "        text-align: right;\n",
              "    }\n",
              "</style>\n",
              "<table border=\"1\" class=\"dataframe\">\n",
              "  <thead>\n",
              "    <tr style=\"text-align: right;\">\n",
              "      <th></th>\n",
              "      <th>is_duplicate</th>\n",
              "      <th>q1_len</th>\n",
              "      <th>q2_len</th>\n",
              "      <th>q1_no_of_words</th>\n",
              "      <th>q2_no_of_words</th>\n",
              "      <th>common_words</th>\n",
              "      <th>total_words</th>\n",
              "      <th>%similar words</th>\n",
              "      <th>cwc_min</th>\n",
              "      <th>cwc max</th>\n",
              "      <th>...</th>\n",
              "      <th>2990</th>\n",
              "      <th>2991</th>\n",
              "      <th>2992</th>\n",
              "      <th>2993</th>\n",
              "      <th>2994</th>\n",
              "      <th>2995</th>\n",
              "      <th>2996</th>\n",
              "      <th>2997</th>\n",
              "      <th>2998</th>\n",
              "      <th>2999</th>\n",
              "    </tr>\n",
              "  </thead>\n",
              "  <tbody>\n",
              "    <tr>\n",
              "      <th>398782</th>\n",
              "      <td>1</td>\n",
              "      <td>75</td>\n",
              "      <td>76</td>\n",
              "      <td>13</td>\n",
              "      <td>13</td>\n",
              "      <td>12</td>\n",
              "      <td>26</td>\n",
              "      <td>46.15</td>\n",
              "      <td>0.874989</td>\n",
              "      <td>0.874989</td>\n",
              "      <td>...</td>\n",
              "      <td>0</td>\n",
              "      <td>0</td>\n",
              "      <td>0</td>\n",
              "      <td>0</td>\n",
              "      <td>0</td>\n",
              "      <td>0</td>\n",
              "      <td>0</td>\n",
              "      <td>0</td>\n",
              "      <td>0</td>\n",
              "      <td>0</td>\n",
              "    </tr>\n",
              "    <tr>\n",
              "      <th>115086</th>\n",
              "      <td>0</td>\n",
              "      <td>48</td>\n",
              "      <td>56</td>\n",
              "      <td>13</td>\n",
              "      <td>16</td>\n",
              "      <td>8</td>\n",
              "      <td>24</td>\n",
              "      <td>33.33</td>\n",
              "      <td>0.666644</td>\n",
              "      <td>0.499988</td>\n",
              "      <td>...</td>\n",
              "      <td>0</td>\n",
              "      <td>0</td>\n",
              "      <td>0</td>\n",
              "      <td>0</td>\n",
              "      <td>0</td>\n",
              "      <td>0</td>\n",
              "      <td>0</td>\n",
              "      <td>0</td>\n",
              "      <td>0</td>\n",
              "      <td>0</td>\n",
              "    </tr>\n",
              "    <tr>\n",
              "      <th>327711</th>\n",
              "      <td>0</td>\n",
              "      <td>104</td>\n",
              "      <td>119</td>\n",
              "      <td>28</td>\n",
              "      <td>21</td>\n",
              "      <td>4</td>\n",
              "      <td>38</td>\n",
              "      <td>10.53</td>\n",
              "      <td>0.000000</td>\n",
              "      <td>0.000000</td>\n",
              "      <td>...</td>\n",
              "      <td>0</td>\n",
              "      <td>0</td>\n",
              "      <td>0</td>\n",
              "      <td>0</td>\n",
              "      <td>0</td>\n",
              "      <td>0</td>\n",
              "      <td>0</td>\n",
              "      <td>0</td>\n",
              "      <td>0</td>\n",
              "      <td>0</td>\n",
              "    </tr>\n",
              "    <tr>\n",
              "      <th>367788</th>\n",
              "      <td>0</td>\n",
              "      <td>58</td>\n",
              "      <td>145</td>\n",
              "      <td>14</td>\n",
              "      <td>32</td>\n",
              "      <td>1</td>\n",
              "      <td>34</td>\n",
              "      <td>2.94</td>\n",
              "      <td>0.000000</td>\n",
              "      <td>0.000000</td>\n",
              "      <td>...</td>\n",
              "      <td>0</td>\n",
              "      <td>0</td>\n",
              "      <td>0</td>\n",
              "      <td>1</td>\n",
              "      <td>0</td>\n",
              "      <td>0</td>\n",
              "      <td>0</td>\n",
              "      <td>0</td>\n",
              "      <td>0</td>\n",
              "      <td>0</td>\n",
              "    </tr>\n",
              "    <tr>\n",
              "      <th>151235</th>\n",
              "      <td>0</td>\n",
              "      <td>34</td>\n",
              "      <td>49</td>\n",
              "      <td>5</td>\n",
              "      <td>9</td>\n",
              "      <td>3</td>\n",
              "      <td>13</td>\n",
              "      <td>23.08</td>\n",
              "      <td>0.749981</td>\n",
              "      <td>0.599988</td>\n",
              "      <td>...</td>\n",
              "      <td>0</td>\n",
              "      <td>0</td>\n",
              "      <td>0</td>\n",
              "      <td>0</td>\n",
              "      <td>0</td>\n",
              "      <td>0</td>\n",
              "      <td>0</td>\n",
              "      <td>0</td>\n",
              "      <td>0</td>\n",
              "      <td>0</td>\n",
              "    </tr>\n",
              "  </tbody>\n",
              "</table>\n",
              "<p>5 rows × 6022 columns</p>\n",
              "</div>\n",
              "      <button class=\"colab-df-convert\" onclick=\"convertToInteractive('df-4589039c-e62f-40db-83cd-c58749e44532')\"\n",
              "              title=\"Convert this dataframe to an interactive table.\"\n",
              "              style=\"display:none;\">\n",
              "        \n",
              "  <svg xmlns=\"http://www.w3.org/2000/svg\" height=\"24px\"viewBox=\"0 0 24 24\"\n",
              "       width=\"24px\">\n",
              "    <path d=\"M0 0h24v24H0V0z\" fill=\"none\"/>\n",
              "    <path d=\"M18.56 5.44l.94 2.06.94-2.06 2.06-.94-2.06-.94-.94-2.06-.94 2.06-2.06.94zm-11 1L8.5 8.5l.94-2.06 2.06-.94-2.06-.94L8.5 2.5l-.94 2.06-2.06.94zm10 10l.94 2.06.94-2.06 2.06-.94-2.06-.94-.94-2.06-.94 2.06-2.06.94z\"/><path d=\"M17.41 7.96l-1.37-1.37c-.4-.4-.92-.59-1.43-.59-.52 0-1.04.2-1.43.59L10.3 9.45l-7.72 7.72c-.78.78-.78 2.05 0 2.83L4 21.41c.39.39.9.59 1.41.59.51 0 1.02-.2 1.41-.59l7.78-7.78 2.81-2.81c.8-.78.8-2.07 0-2.86zM5.41 20L4 18.59l7.72-7.72 1.47 1.35L5.41 20z\"/>\n",
              "  </svg>\n",
              "      </button>\n",
              "      \n",
              "  <style>\n",
              "    .colab-df-container {\n",
              "      display:flex;\n",
              "      flex-wrap:wrap;\n",
              "      gap: 12px;\n",
              "    }\n",
              "\n",
              "    .colab-df-convert {\n",
              "      background-color: #E8F0FE;\n",
              "      border: none;\n",
              "      border-radius: 50%;\n",
              "      cursor: pointer;\n",
              "      display: none;\n",
              "      fill: #1967D2;\n",
              "      height: 32px;\n",
              "      padding: 0 0 0 0;\n",
              "      width: 32px;\n",
              "    }\n",
              "\n",
              "    .colab-df-convert:hover {\n",
              "      background-color: #E2EBFA;\n",
              "      box-shadow: 0px 1px 2px rgba(60, 64, 67, 0.3), 0px 1px 3px 1px rgba(60, 64, 67, 0.15);\n",
              "      fill: #174EA6;\n",
              "    }\n",
              "\n",
              "    [theme=dark] .colab-df-convert {\n",
              "      background-color: #3B4455;\n",
              "      fill: #D2E3FC;\n",
              "    }\n",
              "\n",
              "    [theme=dark] .colab-df-convert:hover {\n",
              "      background-color: #434B5C;\n",
              "      box-shadow: 0px 1px 3px 1px rgba(0, 0, 0, 0.15);\n",
              "      filter: drop-shadow(0px 1px 2px rgba(0, 0, 0, 0.3));\n",
              "      fill: #FFFFFF;\n",
              "    }\n",
              "  </style>\n",
              "\n",
              "      <script>\n",
              "        const buttonEl =\n",
              "          document.querySelector('#df-4589039c-e62f-40db-83cd-c58749e44532 button.colab-df-convert');\n",
              "        buttonEl.style.display =\n",
              "          google.colab.kernel.accessAllowed ? 'block' : 'none';\n",
              "\n",
              "        async function convertToInteractive(key) {\n",
              "          const element = document.querySelector('#df-4589039c-e62f-40db-83cd-c58749e44532');\n",
              "          const dataTable =\n",
              "            await google.colab.kernel.invokeFunction('convertToInteractive',\n",
              "                                                     [key], {});\n",
              "          if (!dataTable) return;\n",
              "\n",
              "          const docLinkHtml = 'Like what you see? Visit the ' +\n",
              "            '<a target=\"_blank\" href=https://colab.research.google.com/notebooks/data_table.ipynb>data table notebook</a>'\n",
              "            + ' to learn more about interactive tables.';\n",
              "          element.innerHTML = '';\n",
              "          dataTable['output_type'] = 'display_data';\n",
              "          await google.colab.output.renderOutput(dataTable, element);\n",
              "          const docLink = document.createElement('div');\n",
              "          docLink.innerHTML = docLinkHtml;\n",
              "          element.appendChild(docLink);\n",
              "        }\n",
              "      </script>\n",
              "    </div>\n",
              "  </div>\n",
              "  "
            ]
          },
          "metadata": {},
          "execution_count": 55
        }
      ],
      "source": [
        "final_df = pd.concat([final_df, temp_df], axis=1)\n",
        "print(final_df.shape)\n",
        "final_df.head()"
      ]
    },
    {
      "cell_type": "code",
      "source": [
        "final_df.columns[:23]"
      ],
      "metadata": {
        "colab": {
          "base_uri": "https://localhost:8080/"
        },
        "id": "WCn35GizhumH",
        "outputId": "81dbfdec-7f49-4bd9-f81e-8ab7317de0d5"
      },
      "execution_count": 87,
      "outputs": [
        {
          "output_type": "execute_result",
          "data": {
            "text/plain": [
              "Index([      'is_duplicate',             'q1_len',             'q2_len',\n",
              "           'q1_no_of_words',     'q2_no_of_words',       'common_words',\n",
              "              'total_words',     '%similar words',            'cwc_min',\n",
              "                  'cwc max',            'csc_min',            'csc_max',\n",
              "                  'ctc_min',            'ctc_max',       'last_word_eq',\n",
              "            'first_word_eq',       'abs_len_diff',           'mean_len',\n",
              "               'fuzz_ratio', 'fuzz_partial_ratio',   'token_sort_ratio',\n",
              "          'token_set_ratio',                    0],\n",
              "      dtype='object')"
            ]
          },
          "metadata": {},
          "execution_count": 87
        }
      ]
    },
    {
      "cell_type": "code",
      "execution_count": 56,
      "metadata": {
        "id": "CvCVvmgoZGhr"
      },
      "outputs": [],
      "source": [
        "from sklearn.model_selection import train_test_split\n",
        "X_train,X_test,y_train,y_test = train_test_split(final_df.iloc[:,1:].values,final_df.iloc[:,0].values,test_size=0.2,random_state=1)"
      ]
    },
    {
      "cell_type": "code",
      "source": [],
      "metadata": {
        "colab": {
          "base_uri": "https://localhost:8080/",
          "height": 165
        },
        "id": "oBp-mAnkiZHv",
        "outputId": "d89992b0-921f-4145-f804-72fa007eaec5"
      },
      "execution_count": 89,
      "outputs": [
        {
          "output_type": "error",
          "ename": "AttributeError",
          "evalue": "ignored",
          "traceback": [
            "\u001b[0;31m---------------------------------------------------------------------------\u001b[0m",
            "\u001b[0;31mAttributeError\u001b[0m                            Traceback (most recent call last)",
            "\u001b[0;32m<ipython-input-89-2625f76b8a6d>\u001b[0m in \u001b[0;36m<cell line: 1>\u001b[0;34m()\u001b[0m\n\u001b[0;32m----> 1\u001b[0;31m \u001b[0mX_train\u001b[0m\u001b[0;34m.\u001b[0m\u001b[0mcolumns\u001b[0m\u001b[0;34m\u001b[0m\u001b[0;34m\u001b[0m\u001b[0m\n\u001b[0m",
            "\u001b[0;31mAttributeError\u001b[0m: 'numpy.ndarray' object has no attribute 'columns'"
          ]
        }
      ]
    },
    {
      "cell_type": "code",
      "source": [
        "from sklearn.metrics import confusion_matrix"
      ],
      "metadata": {
        "id": "lNxAvEqmUPb3"
      },
      "execution_count": 63,
      "outputs": []
    },
    {
      "cell_type": "code",
      "execution_count": 64,
      "metadata": {
        "id": "xnUQJ5rCZKHV",
        "colab": {
          "base_uri": "https://localhost:8080/"
        },
        "outputId": "a38a275e-629f-477f-ec54-c0671091ccd4"
      },
      "outputs": [
        {
          "output_type": "execute_result",
          "data": {
            "text/plain": [
              "0.7861666666666667"
            ]
          },
          "metadata": {},
          "execution_count": 64
        }
      ],
      "source": [
        "from sklearn.ensemble import RandomForestClassifier\n",
        "from sklearn.metrics import accuracy_score\n",
        "rf = RandomForestClassifier()\n",
        "rf.fit(X_train,y_train)\n",
        "y_pred = rf.predict(X_test)\n",
        "accuracy_score(y_test,y_pred)"
      ]
    },
    {
      "cell_type": "code",
      "source": [
        "# for random forest model\n",
        "confusion_matrix(y_test,y_pred)"
      ],
      "metadata": {
        "colab": {
          "base_uri": "https://localhost:8080/"
        },
        "id": "i8rBPtuPUIjz",
        "outputId": "f8673694-60a2-4bc1-eb86-dfeb4d0d321c"
      },
      "execution_count": 65,
      "outputs": [
        {
          "output_type": "execute_result",
          "data": {
            "text/plain": [
              "array([[3284,  528],\n",
              "       [ 755, 1433]])"
            ]
          },
          "metadata": {},
          "execution_count": 65
        }
      ]
    },
    {
      "cell_type": "code",
      "execution_count": 58,
      "metadata": {
        "id": "-24ph-sTZL6e",
        "colab": {
          "base_uri": "https://localhost:8080/"
        },
        "outputId": "6fcd2120-8ddb-443c-eb0e-f8ad027131d7"
      },
      "outputs": [
        {
          "output_type": "execute_result",
          "data": {
            "text/plain": [
              "0.7933333333333333"
            ]
          },
          "metadata": {},
          "execution_count": 58
        }
      ],
      "source": [
        "from xgboost import XGBClassifier\n",
        "from sklearn.metrics import accuracy_score\n",
        "xgb = XGBClassifier()\n",
        "xgb.fit(X_train,y_train)\n",
        "y_pred = xgb.predict(X_test)\n",
        "accuracy_score(y_test,y_pred)"
      ]
    },
    {
      "cell_type": "code",
      "source": [
        "# XGB\n",
        "confusion_matrix(y_test,y_pred)"
      ],
      "metadata": {
        "id": "a2zc5M8qUJTZ"
      },
      "execution_count": null,
      "outputs": []
    },
    {
      "cell_type": "code",
      "source": [],
      "metadata": {
        "id": "tTCvIJQtg-QG"
      },
      "execution_count": null,
      "outputs": []
    },
    {
      "cell_type": "code",
      "source": [],
      "metadata": {
        "id": "lDmNmJUhg-TF"
      },
      "execution_count": null,
      "outputs": []
    },
    {
      "cell_type": "code",
      "source": [],
      "metadata": {
        "id": "4EIfmcGRg-XI"
      },
      "execution_count": null,
      "outputs": []
    },
    {
      "cell_type": "code",
      "source": [],
      "metadata": {
        "id": "u0mjhsHIg-aa"
      },
      "execution_count": 73,
      "outputs": []
    },
    {
      "cell_type": "code",
      "source": [
        "def test_common_words(q1,q2):\n",
        "    w1 = set(map(lambda word: word.lower().strip(), q1.split(\" \")))\n",
        "    w2 = set(map(lambda word: word.lower().strip(), q2.split(\" \")))\n",
        "    return len(w1 & w2)"
      ],
      "metadata": {
        "id": "SmxkjTd4eYmv"
      },
      "execution_count": 74,
      "outputs": []
    },
    {
      "cell_type": "code",
      "source": [
        "def test_total_words(q1,q2):\n",
        "    w1 = set(map(lambda word: word.lower().strip(), q1.split(\" \")))\n",
        "    w2 = set(map(lambda word: word.lower().strip(), q2.split(\" \")))\n",
        "    return (len(w1) + len(w2))"
      ],
      "metadata": {
        "id": "ELTps70IeYpr"
      },
      "execution_count": 75,
      "outputs": []
    },
    {
      "cell_type": "code",
      "source": [
        "def test_fetch_token_features(q1,q2):\n",
        "\n",
        "    SAFE_DIV = 0.0001\n",
        "\n",
        "    STOP_WORDS = stopwords.words(\"english\")\n",
        "\n",
        "    token_features = [0.0]*8\n",
        "\n",
        "    # Converting the Sentence into Tokens:\n",
        "    q1_tokens = q1.split()\n",
        "    q2_tokens = q2.split()\n",
        "\n",
        "    if len(q1_tokens) == 0 or len(q2_tokens) == 0:\n",
        "        return token_features\n",
        "\n",
        "    # Get the non-stopwords in Questions\n",
        "    q1_words = set([word for word in q1_tokens if word not in STOP_WORDS])\n",
        "    q2_words = set([word for word in q2_tokens if word not in STOP_WORDS])\n",
        "\n",
        "    #Get the stopwords in Questions\n",
        "    q1_stops = set([word for word in q1_tokens if word in STOP_WORDS])\n",
        "    q2_stops = set([word for word in q2_tokens if word in STOP_WORDS])\n",
        "\n",
        "    # Get the common non-stopwords from Question pair\n",
        "    common_word_count = len(q1_words.intersection(q2_words))\n",
        "\n",
        "    # Get the common stopwords from Question pair\n",
        "    common_stop_count = len(q1_stops.intersection(q2_stops))\n",
        "\n",
        "    # Get the common Tokens from Question pair\n",
        "    common_token_count = len(set(q1_tokens).intersection(set(q2_tokens)))\n",
        "\n",
        "\n",
        "    token_features[0] = common_word_count / (min(len(q1_words), len(q2_words)) + SAFE_DIV)\n",
        "    token_features[1] = common_word_count / (max(len(q1_words), len(q2_words)) + SAFE_DIV)\n",
        "    token_features[2] = common_stop_count / (min(len(q1_stops), len(q2_stops)) + SAFE_DIV)\n",
        "    token_features[3] = common_stop_count / (max(len(q1_stops), len(q2_stops)) + SAFE_DIV)\n",
        "    token_features[4] = common_token_count / (min(len(q1_tokens), len(q2_tokens)) + SAFE_DIV)\n",
        "    token_features[5] = common_token_count / (max(len(q1_tokens), len(q2_tokens)) + SAFE_DIV)\n",
        "\n",
        "    # Last word of both question is same or not\n",
        "    token_features[6] = int(q1_tokens[-1] == q2_tokens[-1])\n",
        "\n",
        "    # First word of both question is same or not\n",
        "    token_features[7] = int(q1_tokens[0] == q2_tokens[0])\n",
        "\n",
        "    return token_features"
      ],
      "metadata": {
        "id": "gTCbOo1meYsG"
      },
      "execution_count": 76,
      "outputs": []
    },
    {
      "cell_type": "code",
      "source": [
        "def test_fetch_length_features(q1,q2):\n",
        "\n",
        "    length_features = [0.0]*3\n",
        "\n",
        "    # Converting the Sentence into Tokens:\n",
        "    q1_tokens = q1.split()\n",
        "    q2_tokens = q2.split()\n",
        "\n",
        "    if len(q1_tokens) == 0 or len(q2_tokens) == 0:\n",
        "        return length_features\n",
        "\n",
        "    # Absolute length features\n",
        "    length_features[0] = abs(len(q1_tokens) - len(q2_tokens))\n",
        "\n",
        "    #Average Token Length of both Questions\n",
        "    #length_features[1] = (len(q1_tokens) + len(q2_tokens))/2\n",
        "\n",
        "\n",
        "    return length_features"
      ],
      "metadata": {
        "id": "xI9MfDgUeYuk"
      },
      "execution_count": 98,
      "outputs": []
    },
    {
      "cell_type": "code",
      "source": [
        "def test_fetch_fuzzy_features(q1,q2):\n",
        "\n",
        "    fuzzy_features = [0.0]*4\n",
        "\n",
        "    # fuzz_ratio\n",
        "    fuzzy_features[0] = fuzz.QRatio(q1, q2)\n",
        "\n",
        "    # fuzz_partial_ratio\n",
        "    fuzzy_features[1] = fuzz.partial_ratio(q1, q2)\n",
        "\n",
        "    # token_sort_ratio\n",
        "    fuzzy_features[2] = fuzz.token_sort_ratio(q1, q2)\n",
        "\n",
        "    # token_set_ratio\n",
        "    fuzzy_features[3] = fuzz.token_set_ratio(q1, q2)\n",
        "\n",
        "    return fuzzy_features"
      ],
      "metadata": {
        "id": "IsJ-t8iAeYxE"
      },
      "execution_count": 91,
      "outputs": []
    },
    {
      "cell_type": "code",
      "source": [
        "def query_point_creator(q1, q2):\n",
        "\n",
        "    input_query = []\n",
        "\n",
        "    # preprocess\n",
        "    q1 = preprocess(q1)\n",
        "    q2 = preprocess(q2)\n",
        "\n",
        "    # fetch basic features\n",
        "    input_query.append(len(q1))\n",
        "    input_query.append(len(q2))\n",
        "\n",
        "    input_query.append(len(q1.split(\" \")))\n",
        "    input_query.append(len(q2.split(\" \")))\n",
        "\n",
        "    input_query.append(test_common_words(q1, q2))\n",
        "    input_query.append(test_total_words(q1, q2))\n",
        "    input_query.append(round(test_common_words(q1, q2) / test_total_words(q1, q2), 2))\n",
        "\n",
        "    # fetch token features\n",
        "    token_features = test_fetch_token_features(q1, q2)\n",
        "    input_query.extend(token_features[:-1])  # Remove the last element\n",
        "\n",
        "    # fetch length based features\n",
        "    length_features = test_fetch_length_features(q1, q2)\n",
        "    input_query.extend(length_features)\n",
        "\n",
        "    # fetch fuzzy features\n",
        "    fuzzy_features = test_fetch_fuzzy_features(q1, q2)\n",
        "    input_query.extend(fuzzy_features)\n",
        "\n",
        "    # bow feature for q1\n",
        "    q1_bow = cv.transform([q1]).toarray()\n",
        "\n",
        "    # bow feature for q2\n",
        "    q2_bow = cv.transform([q2]).toarray()\n",
        "\n",
        "    return np.hstack((np.array(input_query).reshape(1, 21), q1_bow, q2_bow))"
      ],
      "metadata": {
        "id": "XyTbPXp0giZe"
      },
      "execution_count": 101,
      "outputs": []
    },
    {
      "cell_type": "code",
      "source": [
        "q1 = 'Where is the capital of India?'\n",
        "q2 = 'What is the current capital of Pakistan?'\n",
        "q3 = 'Which city serves as the capital of India?'\n",
        "q4 = 'What is the core capital of India?'\n"
      ],
      "metadata": {
        "id": "D9v1VTxsgjsV"
      },
      "execution_count": 104,
      "outputs": []
    },
    {
      "cell_type": "code",
      "source": [],
      "metadata": {
        "id": "LBDgQfvShZzH"
      },
      "execution_count": null,
      "outputs": []
    },
    {
      "cell_type": "code",
      "source": [
        "rf.predict(query_point_creator(q1,q4))"
      ],
      "metadata": {
        "colab": {
          "base_uri": "https://localhost:8080/"
        },
        "id": "qxVkYyidgj00",
        "outputId": "d130ef88-63a5-4405-c25b-2054a7ad7925"
      },
      "execution_count": 105,
      "outputs": [
        {
          "output_type": "execute_result",
          "data": {
            "text/plain": [
              "array([1])"
            ]
          },
          "metadata": {},
          "execution_count": 105
        }
      ]
    },
    {
      "cell_type": "code",
      "source": [
        "cv"
      ],
      "metadata": {
        "colab": {
          "base_uri": "https://localhost:8080/",
          "height": 75
        },
        "id": "dLG3P-0Hgr5N",
        "outputId": "35d56d5b-dd5e-4583-a991-982eebcdeee7"
      },
      "execution_count": 107,
      "outputs": [
        {
          "output_type": "execute_result",
          "data": {
            "text/plain": [
              "CountVectorizer(max_features=3000)"
            ],
            "text/html": [
              "<style>#sk-container-id-1 {color: black;background-color: white;}#sk-container-id-1 pre{padding: 0;}#sk-container-id-1 div.sk-toggleable {background-color: white;}#sk-container-id-1 label.sk-toggleable__label {cursor: pointer;display: block;width: 100%;margin-bottom: 0;padding: 0.3em;box-sizing: border-box;text-align: center;}#sk-container-id-1 label.sk-toggleable__label-arrow:before {content: \"▸\";float: left;margin-right: 0.25em;color: #696969;}#sk-container-id-1 label.sk-toggleable__label-arrow:hover:before {color: black;}#sk-container-id-1 div.sk-estimator:hover label.sk-toggleable__label-arrow:before {color: black;}#sk-container-id-1 div.sk-toggleable__content {max-height: 0;max-width: 0;overflow: hidden;text-align: left;background-color: #f0f8ff;}#sk-container-id-1 div.sk-toggleable__content pre {margin: 0.2em;color: black;border-radius: 0.25em;background-color: #f0f8ff;}#sk-container-id-1 input.sk-toggleable__control:checked~div.sk-toggleable__content {max-height: 200px;max-width: 100%;overflow: auto;}#sk-container-id-1 input.sk-toggleable__control:checked~label.sk-toggleable__label-arrow:before {content: \"▾\";}#sk-container-id-1 div.sk-estimator input.sk-toggleable__control:checked~label.sk-toggleable__label {background-color: #d4ebff;}#sk-container-id-1 div.sk-label input.sk-toggleable__control:checked~label.sk-toggleable__label {background-color: #d4ebff;}#sk-container-id-1 input.sk-hidden--visually {border: 0;clip: rect(1px 1px 1px 1px);clip: rect(1px, 1px, 1px, 1px);height: 1px;margin: -1px;overflow: hidden;padding: 0;position: absolute;width: 1px;}#sk-container-id-1 div.sk-estimator {font-family: monospace;background-color: #f0f8ff;border: 1px dotted black;border-radius: 0.25em;box-sizing: border-box;margin-bottom: 0.5em;}#sk-container-id-1 div.sk-estimator:hover {background-color: #d4ebff;}#sk-container-id-1 div.sk-parallel-item::after {content: \"\";width: 100%;border-bottom: 1px solid gray;flex-grow: 1;}#sk-container-id-1 div.sk-label:hover label.sk-toggleable__label {background-color: #d4ebff;}#sk-container-id-1 div.sk-serial::before {content: \"\";position: absolute;border-left: 1px solid gray;box-sizing: border-box;top: 0;bottom: 0;left: 50%;z-index: 0;}#sk-container-id-1 div.sk-serial {display: flex;flex-direction: column;align-items: center;background-color: white;padding-right: 0.2em;padding-left: 0.2em;position: relative;}#sk-container-id-1 div.sk-item {position: relative;z-index: 1;}#sk-container-id-1 div.sk-parallel {display: flex;align-items: stretch;justify-content: center;background-color: white;position: relative;}#sk-container-id-1 div.sk-item::before, #sk-container-id-1 div.sk-parallel-item::before {content: \"\";position: absolute;border-left: 1px solid gray;box-sizing: border-box;top: 0;bottom: 0;left: 50%;z-index: -1;}#sk-container-id-1 div.sk-parallel-item {display: flex;flex-direction: column;z-index: 1;position: relative;background-color: white;}#sk-container-id-1 div.sk-parallel-item:first-child::after {align-self: flex-end;width: 50%;}#sk-container-id-1 div.sk-parallel-item:last-child::after {align-self: flex-start;width: 50%;}#sk-container-id-1 div.sk-parallel-item:only-child::after {width: 0;}#sk-container-id-1 div.sk-dashed-wrapped {border: 1px dashed gray;margin: 0 0.4em 0.5em 0.4em;box-sizing: border-box;padding-bottom: 0.4em;background-color: white;}#sk-container-id-1 div.sk-label label {font-family: monospace;font-weight: bold;display: inline-block;line-height: 1.2em;}#sk-container-id-1 div.sk-label-container {text-align: center;}#sk-container-id-1 div.sk-container {/* jupyter's `normalize.less` sets `[hidden] { display: none; }` but bootstrap.min.css set `[hidden] { display: none !important; }` so we also need the `!important` here to be able to override the default hidden behavior on the sphinx rendered scikit-learn.org. See: https://github.com/scikit-learn/scikit-learn/issues/21755 */display: inline-block !important;position: relative;}#sk-container-id-1 div.sk-text-repr-fallback {display: none;}</style><div id=\"sk-container-id-1\" class=\"sk-top-container\"><div class=\"sk-text-repr-fallback\"><pre>CountVectorizer(max_features=3000)</pre><b>In a Jupyter environment, please rerun this cell to show the HTML representation or trust the notebook. <br />On GitHub, the HTML representation is unable to render, please try loading this page with nbviewer.org.</b></div><div class=\"sk-container\" hidden><div class=\"sk-item\"><div class=\"sk-estimator sk-toggleable\"><input class=\"sk-toggleable__control sk-hidden--visually\" id=\"sk-estimator-id-1\" type=\"checkbox\" checked><label for=\"sk-estimator-id-1\" class=\"sk-toggleable__label sk-toggleable__label-arrow\">CountVectorizer</label><div class=\"sk-toggleable__content\"><pre>CountVectorizer(max_features=3000)</pre></div></div></div></div></div>"
            ]
          },
          "metadata": {},
          "execution_count": 107
        }
      ]
    },
    {
      "cell_type": "code",
      "source": [
        "import pickle\n",
        "\n",
        "pickle.dump(rf,open('model.pkl','wb'))\n",
        "pickle.dump(cv,open('cv.pkl','wb'))"
      ],
      "metadata": {
        "id": "2Oe6z3hYgpq5"
      },
      "execution_count": 108,
      "outputs": []
    },
    {
      "cell_type": "code",
      "source": [],
      "metadata": {
        "id": "6KyzCEnZlmxQ"
      },
      "execution_count": null,
      "outputs": []
    }
  ],
  "metadata": {
    "accelerator": "GPU",
    "colab": {
      "provenance": [],
      "gpuType": "T4"
    },
    "kernelspec": {
      "display_name": "Python 3",
      "name": "python3"
    },
    "language_info": {
      "name": "python"
    }
  },
  "nbformat": 4,
  "nbformat_minor": 0
}